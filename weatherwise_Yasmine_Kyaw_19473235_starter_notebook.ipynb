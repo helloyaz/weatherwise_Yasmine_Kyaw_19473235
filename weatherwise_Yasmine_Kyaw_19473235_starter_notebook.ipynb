{
  "cells": [
    {
      "cell_type": "markdown",
      "metadata": {
        "id": "view-in-github",
        "colab_type": "text"
      },
      "source": [
        "<a href=\"https://colab.research.google.com/github/helloyaz/weatherwise_Yasmine_Kyaw_19473235/blob/main/weatherwise_Yasmine_Kyaw_19473235_starter_notebook.ipynb\" target=\"_parent\"><img src=\"https://colab.research.google.com/assets/colab-badge.svg\" alt=\"Open In Colab\"/></a>"
      ]
    },
    {
      "cell_type": "markdown",
      "id": "72e78a05",
      "metadata": {
        "id": "72e78a05"
      },
      "source": [
        "# 🌦️ WeatherWise – Starter Notebook\n",
        "\n",
        "Welcome to your **WeatherWise** project notebook! This scaffold is designed to help you build your weather advisor app using Python, visualisations, and AI-enhanced development.\n",
        "\n"
      ]
    },
    {
      "cell_type": "markdown",
      "id": "59ae7543",
      "metadata": {
        "id": "59ae7543"
      },
      "source": [
        "## 📦 Setup and Configuration\n",
        "Required packages and set-up components are installed/imported here."
      ]
    },
    {
      "cell_type": "code",
      "source": [
        "import os\n",
        "import requests\n",
        "import json\n",
        "import matplotlib.pyplot as plt\n",
        "import ipywidgets as widgets\n",
        "\n",
        "!pip pyinputplus as pyip\n",
        "!pip install fetch-my-weather hands-on-ai pyinputplus\n",
        "\n",
        "from datetime import datetime\n",
        "from IPython.display import display, clear_output, HTML\n",
        "from fetch_my_weather import get_weather\n",
        "from hands_on_ai.chat import get_response\n"
      ],
      "metadata": {
        "collapsed": true,
        "id": "sW_K9_XAjmMR",
        "outputId": "7fdb34b0-b2cc-444b-9ba0-e84813fba052",
        "colab": {
          "base_uri": "https://localhost:8080/"
        }
      },
      "id": "sW_K9_XAjmMR",
      "execution_count": 8,
      "outputs": [
        {
          "output_type": "stream",
          "name": "stdout",
          "text": [
            "ERROR: unknown command \"pyinputplus\"\n",
            "Requirement already satisfied: fetch-my-weather in /usr/local/lib/python3.11/dist-packages (0.4.0)\n",
            "Requirement already satisfied: hands-on-ai in /usr/local/lib/python3.11/dist-packages (0.1.13)\n",
            "Requirement already satisfied: pyinputplus in /usr/local/lib/python3.11/dist-packages (0.2.12)\n",
            "Requirement already satisfied: requests>=2.25.0 in /usr/local/lib/python3.11/dist-packages (from fetch-my-weather) (2.32.3)\n",
            "Requirement already satisfied: pydantic>=1.8.0 in /usr/local/lib/python3.11/dist-packages (from fetch-my-weather) (2.11.4)\n",
            "Requirement already satisfied: typer in /usr/local/lib/python3.11/dist-packages (from hands-on-ai) (0.15.3)\n",
            "Requirement already satisfied: python-fasthtml in /usr/local/lib/python3.11/dist-packages (from hands-on-ai) (0.12.18)\n",
            "Requirement already satisfied: python-docx in /usr/local/lib/python3.11/dist-packages (from hands-on-ai) (1.1.2)\n",
            "Requirement already satisfied: pymupdf in /usr/local/lib/python3.11/dist-packages (from hands-on-ai) (1.26.0)\n",
            "Requirement already satisfied: scikit-learn in /usr/local/lib/python3.11/dist-packages (from hands-on-ai) (1.6.1)\n",
            "Requirement already satisfied: numpy in /usr/local/lib/python3.11/dist-packages (from hands-on-ai) (2.0.2)\n",
            "Requirement already satisfied: pysimplevalidate>=0.2.7 in /usr/local/lib/python3.11/dist-packages (from pyinputplus) (0.2.12)\n",
            "Requirement already satisfied: stdiomask>=0.0.3 in /usr/local/lib/python3.11/dist-packages (from pyinputplus) (0.0.6)\n",
            "Requirement already satisfied: annotated-types>=0.6.0 in /usr/local/lib/python3.11/dist-packages (from pydantic>=1.8.0->fetch-my-weather) (0.7.0)\n",
            "Requirement already satisfied: pydantic-core==2.33.2 in /usr/local/lib/python3.11/dist-packages (from pydantic>=1.8.0->fetch-my-weather) (2.33.2)\n",
            "Requirement already satisfied: typing-extensions>=4.12.2 in /usr/local/lib/python3.11/dist-packages (from pydantic>=1.8.0->fetch-my-weather) (4.13.2)\n",
            "Requirement already satisfied: typing-inspection>=0.4.0 in /usr/local/lib/python3.11/dist-packages (from pydantic>=1.8.0->fetch-my-weather) (0.4.1)\n",
            "Requirement already satisfied: charset-normalizer<4,>=2 in /usr/local/lib/python3.11/dist-packages (from requests>=2.25.0->fetch-my-weather) (3.4.2)\n",
            "Requirement already satisfied: idna<4,>=2.5 in /usr/local/lib/python3.11/dist-packages (from requests>=2.25.0->fetch-my-weather) (3.10)\n",
            "Requirement already satisfied: urllib3<3,>=1.21.1 in /usr/local/lib/python3.11/dist-packages (from requests>=2.25.0->fetch-my-weather) (2.4.0)\n",
            "Requirement already satisfied: certifi>=2017.4.17 in /usr/local/lib/python3.11/dist-packages (from requests>=2.25.0->fetch-my-weather) (2025.4.26)\n",
            "Requirement already satisfied: lxml>=3.1.0 in /usr/local/lib/python3.11/dist-packages (from python-docx->hands-on-ai) (5.4.0)\n",
            "Requirement already satisfied: fastcore>=1.8.1 in /usr/local/lib/python3.11/dist-packages (from python-fasthtml->hands-on-ai) (1.8.2)\n",
            "Requirement already satisfied: python-dateutil in /usr/local/lib/python3.11/dist-packages (from python-fasthtml->hands-on-ai) (2.9.0.post0)\n",
            "Requirement already satisfied: starlette>0.33 in /usr/local/lib/python3.11/dist-packages (from python-fasthtml->hands-on-ai) (0.46.2)\n",
            "Requirement already satisfied: oauthlib in /usr/local/lib/python3.11/dist-packages (from python-fasthtml->hands-on-ai) (3.2.2)\n",
            "Requirement already satisfied: itsdangerous in /usr/local/lib/python3.11/dist-packages (from python-fasthtml->hands-on-ai) (2.2.0)\n",
            "Requirement already satisfied: uvicorn>=0.30 in /usr/local/lib/python3.11/dist-packages (from uvicorn[standard]>=0.30->python-fasthtml->hands-on-ai) (0.34.2)\n",
            "Requirement already satisfied: httpx in /usr/local/lib/python3.11/dist-packages (from python-fasthtml->hands-on-ai) (0.28.1)\n",
            "Requirement already satisfied: fastlite>=0.1.1 in /usr/local/lib/python3.11/dist-packages (from python-fasthtml->hands-on-ai) (0.1.3)\n",
            "Requirement already satisfied: python-multipart in /usr/local/lib/python3.11/dist-packages (from python-fasthtml->hands-on-ai) (0.0.20)\n",
            "Requirement already satisfied: beautifulsoup4 in /usr/local/lib/python3.11/dist-packages (from python-fasthtml->hands-on-ai) (4.13.4)\n",
            "Requirement already satisfied: scipy>=1.6.0 in /usr/local/lib/python3.11/dist-packages (from scikit-learn->hands-on-ai) (1.15.3)\n",
            "Requirement already satisfied: joblib>=1.2.0 in /usr/local/lib/python3.11/dist-packages (from scikit-learn->hands-on-ai) (1.5.0)\n",
            "Requirement already satisfied: threadpoolctl>=3.1.0 in /usr/local/lib/python3.11/dist-packages (from scikit-learn->hands-on-ai) (3.6.0)\n",
            "Requirement already satisfied: click>=8.0.0 in /usr/local/lib/python3.11/dist-packages (from typer->hands-on-ai) (8.2.1)\n",
            "Requirement already satisfied: shellingham>=1.3.0 in /usr/local/lib/python3.11/dist-packages (from typer->hands-on-ai) (1.5.4)\n",
            "Requirement already satisfied: rich>=10.11.0 in /usr/local/lib/python3.11/dist-packages (from typer->hands-on-ai) (13.9.4)\n",
            "Requirement already satisfied: packaging in /usr/local/lib/python3.11/dist-packages (from fastcore>=1.8.1->python-fasthtml->hands-on-ai) (24.2)\n",
            "Requirement already satisfied: apswutils>=0.0.2 in /usr/local/lib/python3.11/dist-packages (from fastlite>=0.1.1->python-fasthtml->hands-on-ai) (0.0.2)\n",
            "Requirement already satisfied: markdown-it-py>=2.2.0 in /usr/local/lib/python3.11/dist-packages (from rich>=10.11.0->typer->hands-on-ai) (3.0.0)\n",
            "Requirement already satisfied: pygments<3.0.0,>=2.13.0 in /usr/local/lib/python3.11/dist-packages (from rich>=10.11.0->typer->hands-on-ai) (2.19.1)\n",
            "Requirement already satisfied: anyio<5,>=3.6.2 in /usr/local/lib/python3.11/dist-packages (from starlette>0.33->python-fasthtml->hands-on-ai) (4.9.0)\n",
            "Requirement already satisfied: h11>=0.8 in /usr/local/lib/python3.11/dist-packages (from uvicorn>=0.30->uvicorn[standard]>=0.30->python-fasthtml->hands-on-ai) (0.16.0)\n",
            "Requirement already satisfied: httptools>=0.6.3 in /usr/local/lib/python3.11/dist-packages (from uvicorn[standard]>=0.30->python-fasthtml->hands-on-ai) (0.6.4)\n",
            "Requirement already satisfied: python-dotenv>=0.13 in /usr/local/lib/python3.11/dist-packages (from uvicorn[standard]>=0.30->python-fasthtml->hands-on-ai) (1.1.0)\n",
            "Requirement already satisfied: pyyaml>=5.1 in /usr/local/lib/python3.11/dist-packages (from uvicorn[standard]>=0.30->python-fasthtml->hands-on-ai) (6.0.2)\n",
            "Requirement already satisfied: uvloop!=0.15.0,!=0.15.1,>=0.14.0 in /usr/local/lib/python3.11/dist-packages (from uvicorn[standard]>=0.30->python-fasthtml->hands-on-ai) (0.21.0)\n",
            "Requirement already satisfied: watchfiles>=0.13 in /usr/local/lib/python3.11/dist-packages (from uvicorn[standard]>=0.30->python-fasthtml->hands-on-ai) (1.0.5)\n",
            "Requirement already satisfied: websockets>=10.4 in /usr/local/lib/python3.11/dist-packages (from uvicorn[standard]>=0.30->python-fasthtml->hands-on-ai) (15.0.1)\n",
            "Requirement already satisfied: soupsieve>1.2 in /usr/local/lib/python3.11/dist-packages (from beautifulsoup4->python-fasthtml->hands-on-ai) (2.7)\n",
            "Requirement already satisfied: httpcore==1.* in /usr/local/lib/python3.11/dist-packages (from httpx->python-fasthtml->hands-on-ai) (1.0.9)\n",
            "Requirement already satisfied: six>=1.5 in /usr/local/lib/python3.11/dist-packages (from python-dateutil->python-fasthtml->hands-on-ai) (1.17.0)\n",
            "Requirement already satisfied: sniffio>=1.1 in /usr/local/lib/python3.11/dist-packages (from anyio<5,>=3.6.2->starlette>0.33->python-fasthtml->hands-on-ai) (1.3.1)\n",
            "Requirement already satisfied: apsw in /usr/local/lib/python3.11/dist-packages (from apswutils>=0.0.2->fastlite>=0.1.1->python-fasthtml->hands-on-ai) (3.49.2.0)\n",
            "Requirement already satisfied: mdurl~=0.1 in /usr/local/lib/python3.11/dist-packages (from markdown-it-py>=2.2.0->rich>=10.11.0->typer->hands-on-ai) (0.1.2)\n"
          ]
        }
      ]
    },
    {
      "cell_type": "markdown",
      "id": "f736ade3",
      "metadata": {
        "id": "f736ade3"
      },
      "source": [
        "## 🌤️ Weather Data Functions"
      ]
    },
    {
      "cell_type": "code",
      "execution_count": 9,
      "id": "7a2c7cd0",
      "metadata": {
        "id": "7a2c7cd0"
      },
      "outputs": [],
      "source": [
        "# Always use `weather_data` as the main variable to hold results from get_weather_data()\n",
        "import requests  # Ensure this is imported in your notebook\n",
        "\n",
        "def get_weather_data(city=\"Perth\", forecast_days=3):\n",
        "    if forecast_days > 3:\n",
        "        print(\"⚠️ Sorry! Only up to 3 days of forecast can be provided.\")\n",
        "        forecast_days = 3\n",
        "\n",
        "    try:\n",
        "        url = f\"https://wttr.in/{city}?format=j1\"\n",
        "        response = requests.get(url)\n",
        "        response.raise_for_status()  # Raise error if response code is not 200\n",
        "        data = response.json()\n",
        "\n",
        "        # Extract current weather info\n",
        "        current = data.get(\"current_condition\", [{}])[0]\n",
        "        weather_now = {\n",
        "            \"temp_C\": current.get(\"temp_C\", \"N/A\"),\n",
        "            \"condition\": current.get(\"weatherDesc\", [{}])[0].get(\"value\", \"Unknown\")\n",
        "        }\n",
        "\n",
        "        print(f\"\\n📍 Weather for {city}\")\n",
        "        print(f\"🌡️ Current Temperature: {weather_now['temp_C']}°C\")\n",
        "        print(f\"⛅ Condition: {weather_now['condition']}\")\n",
        "\n",
        "        # Extract forecast\n",
        "        forecast_data = []\n",
        "        weather_days = data.get(\"weather\", [])[:forecast_days]\n",
        "\n",
        "        if weather_days:\n",
        "            print(\"\\n📅 Temperature Forecast:\")\n",
        "            for day in weather_days:\n",
        "                condition = day.get(\"hourly\", [{}])[4].get(\"weatherDesc\", [{}])[0].get(\"value\", \"Unknown\")\n",
        "                readable_condition = convert_condition_to_message(condition)\n",
        "\n",
        "                forecast = {\n",
        "                    \"date\": day.get(\"date\", \"Unknown\"),\n",
        "                    \"min_temp_C\": day.get(\"mintempC\", \"N/A\"),\n",
        "                    \"max_temp_C\": day.get(\"maxtempC\", \"N/A\"),\n",
        "                    \"condition\": condition\n",
        "                }\n",
        "                forecast_data.append(forecast)\n",
        "\n",
        "                print(f\"  • {forecast['date']}: {forecast['min_temp_C']}°C – {forecast['max_temp_C']}°C, {readable_condition}\")\n",
        "        else:\n",
        "            print(\"⚠️ No forecast data available.\")\n",
        "\n",
        "        return {\n",
        "            \"city\": city,\n",
        "            \"current\": weather_now,\n",
        "            \"forecast\": forecast_data\n",
        "        }\n",
        "\n",
        "    except requests.exceptions.RequestException as req_err:\n",
        "        print(f\"\\n❌ Network or request error: {req_err}\")\n",
        "        return {\"error\": str(req_err)}\n",
        "\n",
        "    except ValueError as val_err:\n",
        "        print(f\"\\n❌ Data processing error: {val_err}\")\n",
        "        return {\"error\": str(val_err)}\n",
        "\n",
        "    except Exception as e:\n",
        "        print(f\"\\n❌ Unexpected error: {e}\")\n",
        "        return {\"error\": str(e)}\n",
        "\n",
        "\n",
        "def convert_condition_to_message(condition):\n",
        "    \"\"\"Converts a raw weather condition into a descriptive message.\"\"\"\n",
        "    condition = condition.lower()\n",
        "    if \"rain\" in condition:\n",
        "        return f\"{condition} 🌧️ – Rain expected\"\n",
        "    elif \"cloud\" in condition:\n",
        "        return f\"{condition} ☁️ – Cloudy skies\"\n",
        "    elif \"sun\" in condition or \"clear\" in condition:\n",
        "        return f\"{condition} ☀️ – Clear weather\"\n",
        "    elif \"thunder\" in condition:\n",
        "        return f\"{condition} ⚡ – Thunderstorms possible\"\n",
        "\n"
      ]
    },
    {
      "cell_type": "code",
      "source": [
        "# Get weather data for a chosen city and number of forecast days (max 3)\n",
        "weather_data = get_weather_data(\"Perth\", 3)\n"
      ],
      "metadata": {
        "id": "x5hZNE690e5A",
        "outputId": "4f919d05-dc71-4507-eecf-d2d8f4ab7dd9",
        "colab": {
          "base_uri": "https://localhost:8080/"
        },
        "collapsed": true
      },
      "id": "x5hZNE690e5A",
      "execution_count": 10,
      "outputs": [
        {
          "output_type": "stream",
          "name": "stdout",
          "text": [
            "\n",
            "📍 Weather for Perth\n",
            "🌡️ Current Temperature: 23°C\n",
            "⛅ Condition: Sunny\n",
            "\n",
            "📅 Temperature Forecast:\n",
            "  • 2025-05-28: 14°C – 23°C, sunny ☀️ – Clear weather\n",
            "  • 2025-05-29: 16°C – 21°C, partly cloudy  ☁️ – Cloudy skies\n",
            "  • 2025-05-30: 18°C – 22°C, patchy rain nearby 🌧️ – Rain expected\n"
          ]
        }
      ]
    },
    {
      "cell_type": "markdown",
      "id": "8a744fdc",
      "metadata": {
        "id": "8a744fdc"
      },
      "source": [
        "## 📊 Visualisation Functions"
      ]
    },
    {
      "cell_type": "code",
      "execution_count": 12,
      "id": "9dc3bf85",
      "metadata": {
        "id": "9dc3bf85"
      },
      "outputs": [],
      "source": [
        "import matplotlib.pyplot as plt\n",
        "\n",
        "import matplotlib.pyplot as plt\n",
        "\n",
        "def create_temperature_visualisation(weather_data, output_type='display'):\n",
        "    \"\"\"\n",
        "    Visualize the temperature forecast using a bar chart.\n",
        "\n",
        "    Args:\n",
        "        weather_data (dict): Processed weather data containing forecast.\n",
        "        output_type (str): 'display' to show plot in notebook or 'figure' to return the figure.\n",
        "\n",
        "    Returns:\n",
        "        matplotlib.figure.Figure: The figure object if output_type is 'figure'; otherwise, displays the chart.\n",
        "    \"\"\"\n",
        "    try:\n",
        "        forecast = weather_data.get(\"forecast\", [])\n",
        "        if not forecast:\n",
        "            print(\"⚠️ No forecast data available to visualize.\")\n",
        "            return\n",
        "\n",
        "        dates = [day.get(\"date\", \"Unknown\") for day in forecast]\n",
        "        min_temps = [int(day.get(\"min_temp_C\", 0)) for day in forecast]\n",
        "        max_temps = [int(day.get(\"max_temp_C\", 0)) for day in forecast]\n",
        "\n",
        "        fig, ax = plt.subplots(figsize=(8, 5))\n",
        "        ax.bar(dates, min_temps, label='Min Temp (°C)', color='skyblue')\n",
        "        ax.bar(dates, max_temps, label='Max Temp (°C)', color='orange', alpha=0.7)\n",
        "\n",
        "        ax.set_title(f\"Temperature Forecast for {weather_data.get('city', 'Unknown')}\")\n",
        "        ax.set_xlabel(\"Date\")\n",
        "        ax.set_ylabel(\"Temperature (°C)\")\n",
        "        ax.legend()\n",
        "        ax.grid(True)\n",
        "\n",
        "        if output_type == 'figure':\n",
        "            return fig\n",
        "        else:\n",
        "            plt.tight_layout()\n",
        "            plt.show()\n",
        "\n",
        "    except Exception as e:\n",
        "        print(f\"❌ Error in temperature visualization: {e}\")\n",
        "\n"
      ]
    },
    {
      "cell_type": "code",
      "source": [
        "import matplotlib.pyplot as plt\n",
        "import numpy as np\n",
        "\n",
        "def create_temperature_visualisation(weather_data, output_type='display'):\n",
        "    \"\"\"\n",
        "    Create a grouped bar chart showing min and max temperature forecast.\n",
        "\n",
        "    Args:\n",
        "        weather_data (dict): The processed weather data. Must contain a 'forecast' list of daily entries with 'date',\n",
        "                             'min_temp_C', and 'max_temp_C'. Optionally may include 'city' name.\n",
        "        output_type (str): 'display' to show the chart immediately in notebook, or 'figure' to return the figure object.\n",
        "\n",
        "    Returns:\n",
        "        If output_type is 'figure', returns a matplotlib Figure object.\n",
        "        Otherwise, displays the figure in the notebook.\n",
        "    \"\"\"\n",
        "\n",
        "    # Retrieve forecast list; fail gracefully if missing\n",
        "    forecast = weather_data.get(\"forecast\", [])\n",
        "    if not forecast:\n",
        "        print(\"⚠️ No forecast data available to visualize.\")\n",
        "        return\n",
        "\n",
        "    # Use provided city name for chart title, fallback if unavailable\n",
        "    city = weather_data.get(\"city\", \"Unknown Location\")\n",
        "\n",
        "    # Extract forecasted dates and temperatures\n",
        "    dates = [day['date'] for day in forecast]\n",
        "    min_temps = [int(day['min_temp_C']) for day in forecast]\n",
        "    max_temps = [int(day['max_temp_C']) for day in forecast]\n",
        "\n",
        "    # Set positions for grouped bars\n",
        "    x = np.arange(len(dates))        # Numeric positions on x-axis\n",
        "    width = 0.35                     # Width of each bar\n",
        "\n",
        "    # Create the figure and axes for the plot\n",
        "    fig, ax = plt.subplots(figsize=(8, 5))\n",
        "\n",
        "    # Plot side-by-side bars for min and max temps\n",
        "    ax.bar(x - width/2, min_temps, width, label='Min Temp (°C)', color='skyblue')\n",
        "    ax.bar(x + width/2, max_temps, width, label='Max Temp (°C)', color='salmon')\n",
        "\n",
        "    # Add title and axis labels\n",
        "    ax.set_title(f\"Temperature Forecast for {city}\")\n",
        "    ax.set_xlabel(\"Date\")\n",
        "    ax.set_ylabel(\"Temperature (°C)\")\n",
        "\n",
        "    # Set x-axis tick positions and rotate for readability\n",
        "    ax.set_xticks(x)\n",
        "    ax.set_xticklabels(dates, rotation=45)\n",
        "\n",
        "    # Add legend and grid\n",
        "    ax.legend()\n",
        "    ax.grid(True, axis='y')          # Horizontal grid lines only\n",
        "\n",
        "    # Optimize layout to prevent clipping\n",
        "    plt.tight_layout()\n",
        "\n",
        "    # Display or return the plot\n",
        "    if output_type == 'figure':\n",
        "        return fig\n",
        "    else:\n",
        "        plt.show()\n"
      ],
      "metadata": {
        "id": "JJPqwVI0xDZm"
      },
      "id": "JJPqwVI0xDZm",
      "execution_count": 26,
      "outputs": []
    },
    {
      "cell_type": "code",
      "source": [
        "# ✅ Use this consistently throughout your notebook\n",
        "weather_data = get_weather_data(\"Adelaide\", 3)\n",
        "\n",
        "\n",
        "# Visualize temperature forecast\n",
        "create_temperature_visualisation(weather_data)\n"
      ],
      "metadata": {
        "collapsed": true,
        "colab": {
          "base_uri": "https://localhost:8080/",
          "height": 663
        },
        "id": "jI-Ic2_Mznqt",
        "outputId": "3fab59de-0db7-4d08-8cbe-f1156a63c403"
      },
      "id": "jI-Ic2_Mznqt",
      "execution_count": 27,
      "outputs": [
        {
          "output_type": "stream",
          "name": "stdout",
          "text": [
            "\n",
            "📍 Weather for Adelaide\n",
            "🌡️ Current Temperature: 15°C\n",
            "⛅ Condition: Partly cloudy\n",
            "\n",
            "📅 Temperature Forecast:\n",
            "  • 2025-05-28: 10°C – 16°C, partly cloudy  ☁️ – Cloudy skies\n",
            "  • 2025-05-29: 12°C – 17°C, sunny ☀️ – Clear weather\n",
            "  • 2025-05-30: 10°C – 17°C, sunny ☀️ – Clear weather\n"
          ]
        },
        {
          "output_type": "display_data",
          "data": {
            "text/plain": [
              "<Figure size 800x500 with 1 Axes>"
            ],
            "image/png": "[encoded data removed]"
          },
          "metadata": {}
        }
      ]
    },
    {
      "cell_type": "code",
      "source": [
        "import matplotlib.pyplot as plt\n",
        "\n",
        "def create_precipitation_summary_chart(weather_data):\n",
        "    \"\"\"\n",
        "    Create a horizontal summary chart of precipitation expectations based on textual weather conditions.\n",
        "\n",
        "    Args:\n",
        "        weather_data (dict): Processed weather data containing forecast.\n",
        "\n",
        "    Returns:\n",
        "        None. Displays a horizontal bar chart.\n",
        "    \"\"\"\n",
        "    try:\n",
        "        forecast = weather_data.get(\"forecast\", [])\n",
        "        if not forecast:\n",
        "            print(\"⚠️ Forecast data is missing or invalid.\")\n",
        "            return\n",
        "\n",
        "        dates = [day.get(\"date\", \"Unknown\") for day in forecast]\n",
        "        descriptions = [day.get(\"condition\", \"Unknown\").lower() for day in forecast]\n",
        "\n",
        "        category = []\n",
        "        color_map = {\n",
        "            \"rain\": \"#3498db\",\n",
        "            \"cloud\": \"#95a5a6\",\n",
        "            \"clear\": \"#f1c40f\",\n",
        "            \"snow\": \"#a29bfe\",\n",
        "            \"other\": \"#dfe6e9\"\n",
        "        }\n",
        "        bar_colors = []\n",
        "\n",
        "        for cond in descriptions:\n",
        "            if any(w in cond for w in [\"rain\", \"shower\", \"drizzle\", \"thunderstorm\"]):\n",
        "                category.append(\"Rain\")\n",
        "                bar_colors.append(color_map[\"rain\"])\n",
        "            elif \"snow\" in cond:\n",
        "                category.append(\"Snow\")\n",
        "                bar_colors.append(color_map[\"snow\"])\n",
        "            elif \"cloud\" in cond or \"overcast\" in cond:\n",
        "                category.append(\"Cloudy\")\n",
        "                bar_colors.append(color_map[\"cloud\"])\n",
        "            elif \"sun\" in cond or \"clear\" in cond:\n",
        "                category.append(\"Clear\")\n",
        "                bar_colors.append(color_map[\"clear\"])\n",
        "            else:\n",
        "                category.append(\"Other\")\n",
        "                bar_colors.append(color_map[\"other\"])\n",
        "\n",
        "        fig, ax = plt.subplots(figsize=(8, 4))\n",
        "        ax.barh(dates, [1] * len(category), color=bar_colors)\n",
        "\n",
        "        for i, cat in enumerate(category):\n",
        "            ax.text(0.5, i, cat, va='center', ha='center', color='black', fontweight='bold')\n",
        "\n",
        "        ax.set_title(\"Precipitation Forecast Summary\")\n",
        "        ax.set_xlabel(\"Weather Category (Not to Scale)\")\n",
        "        ax.set_xlim(0, 1)\n",
        "        ax.set_yticks(range(len(dates)))\n",
        "        ax.set_yticklabels(dates)\n",
        "        ax.get_xaxis().set_visible(False)\n",
        "\n",
        "        plt.tight_layout()\n",
        "        plt.show()\n",
        "\n",
        "    except Exception as e:\n",
        "        print(f\"❌ Error in precipitation visualization: {e}\")\n"
      ],
      "metadata": {
        "id": "yUkrz8ekBILy"
      },
      "id": "yUkrz8ekBILy",
      "execution_count": 28,
      "outputs": []
    },
    {
      "cell_type": "code",
      "source": [
        "# ✅ Use this consistently throughout your notebook\n",
        "weather_data = get_weather_data(\"Perth\", 3)\n",
        "\n",
        "# Visualize precipitation-style summary\n",
        "create_precipitation_summary_chart(weather_data)\n"
      ],
      "metadata": {
        "colab": {
          "base_uri": "https://localhost:8080/",
          "height": 563
        },
        "id": "lcSsWqwlWb5J",
        "outputId": "237fae16-d3cd-4cb0-f2a6-2dddc7295cbe"
      },
      "id": "lcSsWqwlWb5J",
      "execution_count": 29,
      "outputs": [
        {
          "output_type": "stream",
          "name": "stdout",
          "text": [
            "\n",
            "📍 Weather for Perth\n",
            "🌡️ Current Temperature: 23°C\n",
            "⛅ Condition: Sunny\n",
            "\n",
            "📅 Temperature Forecast:\n",
            "  • 2025-05-28: 14°C – 23°C, sunny ☀️ – Clear weather\n",
            "  • 2025-05-29: 16°C – 21°C, partly cloudy  ☁️ – Cloudy skies\n",
            "  • 2025-05-30: 18°C – 22°C, patchy rain nearby 🌧️ – Rain expected\n"
          ]
        },
        {
          "output_type": "display_data",
          "data": {
            "text/plain": [
              "<Figure size 800x400 with 1 Axes>"
            ],
            "image/png": "[encoded data removed]"
          },
          "metadata": {}
        }
      ]
    },
    {
      "cell_type": "markdown",
      "id": "9f95d160",
      "metadata": {
        "id": "9f95d160"
      },
      "source": [
        "## 🤖 Natural Language Processing"
      ]
    },
    {
      "cell_type": "code",
      "execution_count": 17,
      "id": "bcc5833e",
      "metadata": {
        "id": "bcc5833e"
      },
      "outputs": [],
      "source": [
        "# Define parse_weather_question()\n",
        "import re\n",
        "from datetime import datetime\n",
        "\n",
        "def parse_weather_question(question):\n",
        "    \"\"\"\n",
        "    Parse a user's natural language weather question into structured components.\n",
        "\n",
        "    Args:\n",
        "        question (str): The user's weather question.\n",
        "\n",
        "    Returns:\n",
        "        dict: Parsed components including city, days, attribute, or an error message.\n",
        "    \"\"\"\n",
        "    question = question.lower()\n",
        "\n",
        "    # Step 1: Detect attribute\n",
        "    attributes = [\"rain\", \"snow\", \"cloud\", \"sun\", \"clear\", \"temperature\", \"hot\", \"cold\"]\n",
        "    found_attr = next((attr for attr in attributes if attr in question), \"general\")\n",
        "\n",
        "    # Step 2: Determine number of forecast days\n",
        "    days = 1  # default\n",
        "    weekdays = [\"monday\", \"tuesday\", \"wednesday\", \"thursday\", \"friday\", \"saturday\", \"sunday\"]\n",
        "\n",
        "    if \"today\" in question:\n",
        "        days = 1\n",
        "    elif \"tomorrow\" in question:\n",
        "        days = 2\n",
        "    elif \"week\" in question:\n",
        "        days = 3\n",
        "    else:\n",
        "        for i, day in enumerate(weekdays):\n",
        "            if day in question:\n",
        "                today_idx = datetime.today().weekday()\n",
        "                target_idx = i\n",
        "                delta_days = (target_idx - today_idx) % 7\n",
        "                days = delta_days + 1\n",
        "                break\n",
        "\n",
        "    # Step 3: Check forecast range limit\n",
        "    if days > 3:\n",
        "        return {\n",
        "            \"status\": \"error\",\n",
        "            \"error\": \"❌ Sorry, only 3-day forecasts are available. Please choose today, tomorrow, or this week.\"\n",
        "        }\n",
        "\n",
        "    # Step 4: Extract city name\n",
        "    city_match = re.search(r\"in ([a-zA-Z\\s]+)\", question)\n",
        "    if city_match:\n",
        "        city = city_match.group(1).strip()\n",
        "        # Remove weekday or time keywords from city string\n",
        "        for keyword in [\"today\", \"tomorrow\", \"this week\", \"this weekend\"] + weekdays:\n",
        "            city = city.replace(keyword, \"\").strip()\n",
        "        city = re.sub(r\"\\s+\", \" \", city).strip()  # Normalize spaces\n",
        "    else:\n",
        "        return {\n",
        "            \"status\": \"error\",\n",
        "            \"error\": \"⚠️ Please include a location in your weather question (e.g. 'in Brisbane').\"\n",
        "        }\n",
        "\n",
        "    # Return structured data\n",
        "    return {\n",
        "        \"status\": \"ok\",\n",
        "        \"city\": city.title(),\n",
        "        \"attribute\": found_attr,\n",
        "        \"days\": days\n",
        "    }\n",
        "\n"
      ]
    },
    {
      "cell_type": "code",
      "source": [
        "user_question = \"Will it rain in Perth this Wednesday?\"\n",
        "parsed = parse_weather_question(user_question)\n",
        "print(parsed)\n"
      ],
      "metadata": {
        "colab": {
          "base_uri": "https://localhost:8080/"
        },
        "id": "RiRy_zMfguXW",
        "outputId": "ff1e1d70-cc63-4cdc-83b0-3709382b6bad"
      },
      "id": "RiRy_zMfguXW",
      "execution_count": 18,
      "outputs": [
        {
          "output_type": "stream",
          "name": "stdout",
          "text": [
            "{'status': 'ok', 'city': 'In Perth This', 'attribute': 'rain', 'days': 1}\n"
          ]
        }
      ]
    },
    {
      "cell_type": "code",
      "source": [
        "# Format_weather_response() here\n",
        "def format_weather_response(parsed_question, weather_data):\n",
        "    from IPython.display import HTML\n",
        "\n",
        "    if not weather_data or \"forecast\" not in weather_data:\n",
        "        return \"⚠️ Sorry, I couldn't retrieve valid weather data.\"\n",
        "\n",
        "    city = parsed_question[\"city\"]\n",
        "    attr = parsed_question[\"attribute\"]\n",
        "    days = parsed_question[\"days\"]\n",
        "    forecast = weather_data[\"forecast\"]\n",
        "    current = weather_data.get(\"current_condition\", {})\n",
        "\n",
        "    # ✅ Ensure this is declared early\n",
        "    response = []\n",
        "\n",
        "    # Header\n",
        "    response.append(f\"<h3>📍 Weather for {city}</h3>\")\n",
        "\n",
        "    # Current Conditions\n",
        "    if current and current.get(\"temp_C\") and current.get(\"condition\"):\n",
        "        response.append(f\"<p>🌡️ <b>Current Temperature:</b> {current['temp_C']}°C</p>\")\n",
        "        response.append(f\"<p>⛅ <b>Condition:</b> {current['condition'].capitalize()}</p>\")\n",
        "    else:\n",
        "        response.append(\"<p>🔎 Current conditions are unavailable.</p>\")\n",
        "\n",
        "    # Forecast\n",
        "    if attr in [\"rain\", \"snow\", \"cloud\", \"clear\", \"sun\"]:\n",
        "        for day in forecast[:days]:\n",
        "            condition = day.get(\"condition\", \"\").lower()\n",
        "            emoji = (\n",
        "                \"🌧️\" if \"rain\" in condition else\n",
        "                \"❄️\" if \"snow\" in condition else\n",
        "                \"☁️\" if \"cloud\" in condition else\n",
        "                \"☀️\" if \"sun\" in condition or \"clear\" in condition else\n",
        "                \"🔍\"\n",
        "            )\n",
        "            match = attr in condition\n",
        "            response.append(f\"📅 {day['date']}: {condition} – {emoji} {'Yes ✅' if match else 'No ❌'}\")\n",
        "    else:\n",
        "        # Temperature / general forecast\n",
        "        response.append(\"<h4>📅 Temperature Forecast:</h4><ul>\")\n",
        "        for day in forecast[:days]:\n",
        "            condition = day.get(\"condition\", \"\").lower()\n",
        "            msg = \"\"\n",
        "            if \"rain\" in condition:\n",
        "                msg = \"🌧️ Rain expected – take an umbrella!\"\n",
        "            elif \"sun\" in condition or \"clear\" in condition:\n",
        "                msg = \"☀️ Clear skies – enjoy the sunshine!\"\n",
        "            elif \"cloud\" in condition:\n",
        "                msg = \"☁️ Cloudy skies\"\n",
        "            elif \"snow\" in condition:\n",
        "                msg = \"❄️ Snow forecasted – bundle up!\"\n",
        "\n",
        "            response.append(\n",
        "                f\"<li>{day['date']}: {day['min_temp_C']}°C – {day['max_temp_C']}°C, {condition} – {msg}</li>\"\n",
        "            )\n",
        "        response.append(\"</ul>\")\n",
        "\n",
        "    return \"<br>\".join(response)\n"
      ],
      "metadata": {
        "id": "eVFJmkZSWPAW"
      },
      "id": "eVFJmkZSWPAW",
      "execution_count": 19,
      "outputs": []
    },
    {
      "cell_type": "code",
      "source": [
        "from IPython.display import display, HTML\n",
        "\n",
        "user_question = \"Will it rain in Perth this Wednesday?\"\n",
        "parsed = parse_weather_question(user_question)\n",
        "\n",
        "if parsed.get(\"status\") == \"error\":\n",
        "    print(parsed[\"error\"])\n",
        "else:\n",
        "    weather_data = get_weather_data(parsed[\"city\"], parsed[\"days\"])\n",
        "    display(HTML(format_weather_response(parsed, weather_data)))\n"
      ],
      "metadata": {
        "colab": {
          "base_uri": "https://localhost:8080/",
          "height": 261
        },
        "id": "9o7DMFLEQVXc",
        "outputId": "6d8b5790-c1ef-4012-8a99-d4dbedffa2f2"
      },
      "id": "9o7DMFLEQVXc",
      "execution_count": 22,
      "outputs": [
        {
          "output_type": "stream",
          "name": "stdout",
          "text": [
            "\n",
            "📍 Weather for In Perth This\n",
            "🌡️ Current Temperature: 17°C\n",
            "⛅ Condition: Partly cloudy\n",
            "\n",
            "📅 Temperature Forecast:\n",
            "  • 2025-05-28: 10°C – 19°C, patchy rain nearby 🌧️ – Rain expected\n"
          ]
        },
        {
          "output_type": "display_data",
          "data": {
            "text/plain": [
              "<IPython.core.display.HTML object>"
            ],
            "text/html": [
              "<h3>📍 Weather for In Perth This</h3><br><p>🔎 Current conditions are unavailable.</p><br>📅 2025-05-28: patchy rain nearby – 🌧️ Yes ✅"
            ]
          },
          "metadata": {}
        }
      ]
    },
    {
      "cell_type": "markdown",
      "id": "d643a53c",
      "metadata": {
        "id": "d643a53c"
      },
      "source": [
        "## 🧩 Main Application Logic"
      ]
    },
    {
      "cell_type": "code",
      "execution_count": 31,
      "id": "a9e2e805",
      "metadata": {
        "id": "a9e2e805"
      },
      "outputs": [],
      "source": [
        "# Tie everything together here\n",
        "def run_weather_advisor(user_question):\n",
        "    \"\"\"\n",
        "    Main function to handle the full weather advisor logic.\n",
        "\n",
        "    Args:\n",
        "        user_question (str): The user's natural language weather question.\n",
        "\n",
        "    Returns:\n",
        "        str: Natural language response or error message.\n",
        "    \"\"\"\n",
        "    if not user_question.strip():\n",
        "        return \"⚠️ Please enter a weather question.\"\n",
        "\n",
        "    parsed = parse_weather_question(user_question)\n",
        "    if parsed.get(\"status\") == \"error\":\n",
        "        return parsed[\"error\"]\n",
        "\n",
        "    try:\n",
        "        weather_data = get_weather_data(parsed[\"city\"], parsed[\"days\"])\n",
        "        if not weather_data:\n",
        "            return \"❌ Could not retrieve weather data.\"\n",
        "        return format_weather_response(parsed, weather_data)\n",
        "    except Exception as e:\n",
        "        return f\"❌ An unexpected error occurred: {e}\"\n"
      ]
    },
    {
      "cell_type": "code",
      "source": [],
      "metadata": {
        "id": "ObKPYiDmV0Xj"
      },
      "id": "ObKPYiDmV0Xj",
      "execution_count": 31,
      "outputs": []
    },
    {
      "cell_type": "markdown",
      "id": "0d85225e",
      "metadata": {
        "id": "0d85225e"
      },
      "source": [
        "## 🧭 User Interface"
      ]
    },
    {
      "cell_type": "code",
      "execution_count": 30,
      "id": "fa6cb0f6",
      "metadata": {
        "id": "fa6cb0f6",
        "colab": {
          "base_uri": "https://localhost:8080/",
          "height": 128,
          "referenced_widgets": [
            "6b9150b1e58d4629993316b9a7269a05",
            "7908f135ae904c57bd6870509168ab7a",
            "2883cb089efa4d77a27d2215c7f4bb7b",
            "f7298667e7e9435db863fedc2bb685b9",
            "c9a9253ddf80467694c709dd5e98132f",
            "383d83a816c248039180a1f898436f24",
            "9746dc27de4848ff8f400c28a9683168",
            "15bca58ae6ed4d96bc9f78fc97277a78",
            "d762c5c9ae774473bd15682f720b2d52",
            "741ddb5af1474efca15caed0efc4102a",
            "434d646cce7d4a8e8731968057cbb22f",
            "b49e0b8a688b44e0a23f40efa92306b8",
            "ab7e21e098fd43cca92880dea2a2c830",
            "b5d7e190d0e74b1ab762115c0c0d2795",
            "050fc4ab6a4949f58f1a6f035e37650f",
            "7fca3f5c502741bca348301ffc02eb3c",
            "422c046765d34ef68a5091f60df84ba1",
            "cc5be64144094b4db6fa9a00b3655ad1"
          ]
        },
        "outputId": "61a5c488-61ea-48d9-886f-13ac2fb5826e"
      },
      "outputs": [
        {
          "output_type": "display_data",
          "data": {
            "text/plain": [
              "VBox(children=(Dropdown(description='Need inspo?', layout=Layout(width='100%'), options=('', 'Will it rain in …"
            ],
            "application/vnd.jupyter.widget-view+json": {
              "version_major": 2,
              "version_minor": 0,
              "model_id": "6b9150b1e58d4629993316b9a7269a05"
            }
          },
          "metadata": {}
        }
      ],
      "source": [
        "# Menu functions defined with ipywidgets\n",
        "\n",
        "import ipywidgets as widgets\n",
        "from IPython.display import display, clear_output, HTML\n",
        "\n",
        "# --- INPUT WIDGETS ---\n",
        "question_input = widgets.Text(\n",
        "    value='',\n",
        "    placeholder='Type your weather question here...',\n",
        "    description='Ask here!:',\n",
        "    layout=widgets.Layout(width='100%')\n",
        ")\n",
        "\n",
        "question_examples = widgets.Dropdown(\n",
        "    options=[\n",
        "        '',\n",
        "        \"Will it rain in Perth tomorrow?\",\n",
        "        \"What's the weather in Sydney today?\",\n",
        "        \"Is it sunny in Melbourne this weekend?\",\n",
        "        \"Will it snow in Hobart this Friday?\"\n",
        "    ],\n",
        "    description='Need inspo?',\n",
        "    layout=widgets.Layout(width='100%')\n",
        ")\n",
        "\n",
        "run_button = widgets.Button(description=\"Ask Weather 🌤\", button_style='success')\n",
        "reset_button = widgets.Button(description=\"Reset 🔄\", button_style='warning')\n",
        "output = widgets.Output()\n",
        "\n",
        "# --- LOGIC HANDLER ---\n",
        "def handle_weather_query(user_question):\n",
        "    if not user_question.strip():\n",
        "        return HTML(\"<b style='color:orange;'>⚠️ Please enter a weather question.</b>\")\n",
        "\n",
        "    response = run_weather_advisor(user_question)\n",
        "    return HTML(f\"<pre>{response}</pre>\")\n",
        "\n",
        "# --- BUTTON BEHAVIOR ---\n",
        "def on_button_click(b):\n",
        "    with output:\n",
        "        clear_output()\n",
        "        result = handle_weather_query(question_input.value)\n",
        "        display(result)\n",
        "\n",
        "def on_reset_click(b):\n",
        "    question_input.value = ''\n",
        "    question_examples.value = ''\n",
        "    with output:\n",
        "        clear_output()\n",
        "\n",
        "def on_dropdown_change(change):\n",
        "    if change['type'] == 'change' and change['name'] == 'value' and change['new']:\n",
        "        question_input.value = change['new']\n",
        "\n",
        "# --- EVENT LISTENERS ---\n",
        "run_button.on_click(on_button_click)\n",
        "reset_button.on_click(on_reset_click)\n",
        "question_examples.observe(on_dropdown_change)\n",
        "\n",
        "# --- DISPLAY LAYOUT ---\n",
        "ui = widgets.VBox([\n",
        "    question_examples,\n",
        "    question_input,\n",
        "    widgets.HBox([run_button, reset_button]),\n",
        "    output\n",
        "])\n",
        "\n",
        "display(ui)\n"
      ]
    },
    {
      "cell_type": "markdown",
      "id": "fde44479",
      "metadata": {
        "id": "fde44479"
      },
      "source": [
        "## 🧪 Testing and Examples"
      ]
    },
    {
      "cell_type": "code",
      "execution_count": 32,
      "id": "4e573901",
      "metadata": {
        "id": "4e573901",
        "colab": {
          "base_uri": "https://localhost:8080/",
          "height": 960
        },
        "outputId": "07ed617f-5231-4170-fae3-b28f9a497572"
      },
      "outputs": [
        {
          "output_type": "stream",
          "name": "stdout",
          "text": [
            "{'status': 'ok', 'city': 'In Perth This', 'attribute': 'rain', 'days': 1}\n",
            "\n",
            "❓ Question: Will it rain in Perth tomorrow?\n",
            "\n",
            "📍 Weather for In Perth\n",
            "🌡️ Current Temperature: 16°C\n",
            "⛅ Condition: Overcast\n",
            "\n",
            "📅 Temperature Forecast:\n",
            "  • 2025-05-28: 12°C – 25°C, None\n",
            "  • 2025-05-29: 12°C – 24°C, None\n"
          ]
        },
        {
          "output_type": "display_data",
          "data": {
            "text/plain": [
              "'<h3>📍 Weather for In Perth</h3><br><p>🔎 Current conditions are unavailable.</p><br>📅 2025-05-28: overcast  – 🔍 No ❌<br>📅 2025-05-29: overcast  – 🔍 No ❌'"
            ],
            "application/vnd.google.colaboratory.intrinsic+json": {
              "type": "string"
            }
          },
          "metadata": {}
        },
        {
          "output_type": "stream",
          "name": "stdout",
          "text": [
            "\n",
            "❓ Question: What's the weather in Sydney today?\n",
            "\n",
            "📍 Weather for Sydney\n",
            "🌡️ Current Temperature: 15°C\n",
            "⛅ Condition: Clear\n",
            "\n",
            "📅 Temperature Forecast:\n",
            "  • 2025-05-28: 11°C – 18°C, sunny ☀️ – Clear weather\n"
          ]
        },
        {
          "output_type": "display_data",
          "data": {
            "text/plain": [
              "'<h3>📍 Weather for Sydney</h3><br><p>🔎 Current conditions are unavailable.</p><br><h4>📅 Temperature Forecast:</h4><ul><br><li>2025-05-28: 11°C – 18°C, sunny – ☀️ Clear skies – enjoy the sunshine!</li><br></ul>'"
            ],
            "application/vnd.google.colaboratory.intrinsic+json": {
              "type": "string"
            }
          },
          "metadata": {}
        },
        {
          "output_type": "stream",
          "name": "stdout",
          "text": [
            "\n",
            "❓ Question: Is it sunny in Melbourne this weekend?\n",
            "\n",
            "📍 Weather for Melbourne End\n",
            "🌡️ Current Temperature: 25°C\n",
            "⛅ Condition: Mist\n",
            "\n",
            "📅 Temperature Forecast:\n",
            "  • 2025-05-28: 29°C – 31°C, patchy rain nearby 🌧️ – Rain expected\n",
            "  • 2025-05-29: 30°C – 31°C, patchy rain nearby 🌧️ – Rain expected\n",
            "  • 2025-05-30: 29°C – 32°C, patchy rain nearby 🌧️ – Rain expected\n"
          ]
        },
        {
          "output_type": "display_data",
          "data": {
            "text/plain": [
              "'<h3>📍 Weather for Melbourne End</h3><br><p>🔎 Current conditions are unavailable.</p><br>📅 2025-05-28: patchy rain nearby – 🌧️ No ❌<br>📅 2025-05-29: patchy rain nearby – 🌧️ No ❌<br>📅 2025-05-30: patchy rain nearby – 🌧️ No ❌'"
            ],
            "application/vnd.google.colaboratory.intrinsic+json": {
              "type": "string"
            }
          },
          "metadata": {}
        },
        {
          "output_type": "stream",
          "name": "stdout",
          "text": [
            "\n",
            "❓ Question: Weather in India tomorrow?\n",
            "\n",
            "📍 Weather for India\n",
            "🌡️ Current Temperature: 36°C\n",
            "⛅ Condition: Partly cloudy\n",
            "\n",
            "📅 Temperature Forecast:\n",
            "  • 2025-05-28: 26°C – 37°C, None\n",
            "  • 2025-05-29: 27°C – 39°C, sunny ☀️ – Clear weather\n"
          ]
        },
        {
          "output_type": "display_data",
          "data": {
            "text/plain": [
              "'<h3>📍 Weather for India</h3><br><p>🔎 Current conditions are unavailable.</p><br><h4>📅 Temperature Forecast:</h4><ul><br><li>2025-05-28: 26°C – 37°C, overcast  – </li><br><li>2025-05-29: 27°C – 39°C, sunny – ☀️ Clear skies – enjoy the sunshine!</li><br></ul>'"
            ],
            "application/vnd.google.colaboratory.intrinsic+json": {
              "type": "string"
            }
          },
          "metadata": {}
        },
        {
          "output_type": "stream",
          "name": "stdout",
          "text": [
            "\n",
            "❓ Question: \n"
          ]
        },
        {
          "output_type": "display_data",
          "data": {
            "text/plain": [
              "'⚠️ Please enter a weather question.'"
            ],
            "application/vnd.google.colaboratory.intrinsic+json": {
              "type": "string"
            }
          },
          "metadata": {}
        },
        {
          "output_type": "stream",
          "name": "stdout",
          "text": [
            "\n",
            "❓ Question: Hi\n"
          ]
        },
        {
          "output_type": "display_data",
          "data": {
            "text/plain": [
              "\"⚠️ Please include a location in your weather question (e.g. 'in Brisbane').\""
            ],
            "application/vnd.google.colaboratory.intrinsic+json": {
              "type": "string"
            }
          },
          "metadata": {}
        }
      ],
      "source": [
        "# Include sample input/output for each function\n",
        "\n",
        "# parsing logic and generating\n",
        "user_question = \"Will it rain in Perth this Wednesday?\"\n",
        "parsed = parse_weather_question(user_question)\n",
        "print(parsed)\n",
        "\n",
        "test_cases = [\n",
        "    \"Will it rain in Perth tomorrow?\",\n",
        "    \"What's the weather in Sydney today?\",\n",
        "    \"Is it sunny in Melbourne this weekend?\",\n",
        "    \"Weather in India tomorrow?\",\n",
        "    \"\",\n",
        "    \"Hi\"\n",
        "]\n",
        "\n",
        "for question in test_cases:\n",
        "    print(f\"\\n❓ Question: {question}\")\n",
        "    display(run_weather_advisor(question))\n",
        "\n",
        "# Note: wttr.in returns plausible weather data even for non-existent cities like 'Atlantis'.\n",
        "# This may lead to false positives unless additional validation is added."
      ]
    },
    {
      "cell_type": "markdown",
      "id": "d2885880",
      "metadata": {
        "id": "d2885880"
      },
      "source": [
        "## 🗂️ AI Prompting Log (Optional)\n",
        "Add markdown cells here summarising prompts used or link to AI conversations in the `ai-conversations/` folder."
      ]
    }
  ],
  "metadata": {
    "language_info": {
      "name": "python"
    },
    "colab": {
      "provenance": [],
      "include_colab_link": true
    },
    "kernelspec": {
      "name": "python3",
      "display_name": "Python 3"
    },
    "widgets": {
      "application/vnd.jupyter.widget-state+json": {
        "6b9150b1e58d4629993316b9a7269a05": {
          "model_module": "@jupyter-widgets/controls",
          "model_name": "VBoxModel",
          "model_module_version": "1.5.0",
          "state": {
            "_dom_classes": [],
            "_model_module": "@jupyter-widgets/controls",
            "_model_module_version": "1.5.0",
            "_model_name": "VBoxModel",
            "_view_count": null,
            "_view_module": "@jupyter-widgets/controls",
            "_view_module_version": "1.5.0",
            "_view_name": "VBoxView",
            "box_style": "",
            "children": [
              "IPY_MODEL_7908f135ae904c57bd6870509168ab7a",
              "IPY_MODEL_2883cb089efa4d77a27d2215c7f4bb7b",
              "IPY_MODEL_f7298667e7e9435db863fedc2bb685b9",
              "IPY_MODEL_c9a9253ddf80467694c709dd5e98132f"
            ],
            "layout": "IPY_MODEL_383d83a816c248039180a1f898436f24"
          }
        },
        "7908f135ae904c57bd6870509168ab7a": {
          "model_module": "@jupyter-widgets/controls",
          "model_name": "DropdownModel",
          "model_module_version": "1.5.0",
          "state": {
            "_dom_classes": [],
            "_model_module": "@jupyter-widgets/controls",
            "_model_module_version": "1.5.0",
            "_model_name": "DropdownModel",
            "_options_labels": [
              "",
              "Will it rain in Perth tomorrow?",
              "What's the weather in Sydney today?",
              "Is it sunny in Melbourne this weekend?",
              "Will it snow in Hobart this Friday?"
            ],
            "_view_count": null,
            "_view_module": "@jupyter-widgets/controls",
            "_view_module_version": "1.5.0",
            "_view_name": "DropdownView",
            "description": "Need inspo?",
            "description_tooltip": null,
            "disabled": false,
            "index": 0,
            "layout": "IPY_MODEL_9746dc27de4848ff8f400c28a9683168",
            "style": "IPY_MODEL_15bca58ae6ed4d96bc9f78fc97277a78"
          }
        },
        "2883cb089efa4d77a27d2215c7f4bb7b": {
          "model_module": "@jupyter-widgets/controls",
          "model_name": "TextModel",
          "model_module_version": "1.5.0",
          "state": {
            "_dom_classes": [],
            "_model_module": "@jupyter-widgets/controls",
            "_model_module_version": "1.5.0",
            "_model_name": "TextModel",
            "_view_count": null,
            "_view_module": "@jupyter-widgets/controls",
            "_view_module_version": "1.5.0",
            "_view_name": "TextView",
            "continuous_update": true,
            "description": "Ask here!:",
            "description_tooltip": null,
            "disabled": false,
            "layout": "IPY_MODEL_d762c5c9ae774473bd15682f720b2d52",
            "placeholder": "Type your weather question here...",
            "style": "IPY_MODEL_741ddb5af1474efca15caed0efc4102a",
            "value": ""
          }
        },
        "f7298667e7e9435db863fedc2bb685b9": {
          "model_module": "@jupyter-widgets/controls",
          "model_name": "HBoxModel",
          "model_module_version": "1.5.0",
          "state": {
            "_dom_classes": [],
            "_model_module": "@jupyter-widgets/controls",
            "_model_module_version": "1.5.0",
            "_model_name": "HBoxModel",
            "_view_count": null,
            "_view_module": "@jupyter-widgets/controls",
            "_view_module_version": "1.5.0",
            "_view_name": "HBoxView",
            "box_style": "",
            "children": [
              "IPY_MODEL_434d646cce7d4a8e8731968057cbb22f",
              "IPY_MODEL_b49e0b8a688b44e0a23f40efa92306b8"
            ],
            "layout": "IPY_MODEL_ab7e21e098fd43cca92880dea2a2c830"
          }
        },
        "c9a9253ddf80467694c709dd5e98132f": {
          "model_module": "@jupyter-widgets/output",
          "model_name": "OutputModel",
          "model_module_version": "1.0.0",
          "state": {
            "_dom_classes": [],
            "_model_module": "@jupyter-widgets/output",
            "_model_module_version": "1.0.0",
            "_model_name": "OutputModel",
            "_view_count": null,
            "_view_module": "@jupyter-widgets/output",
            "_view_module_version": "1.0.0",
            "_view_name": "OutputView",
            "layout": "IPY_MODEL_cc5be64144094b4db6fa9a00b3655ad1",
            "msg_id": "",
            "outputs": []
          }
        },
        "383d83a816c248039180a1f898436f24": {
          "model_module": "@jupyter-widgets/base",
          "model_name": "LayoutModel",
          "model_module_version": "1.2.0",
          "state": {
            "_model_module": "@jupyter-widgets/base",
            "_model_module_version": "1.2.0",
            "_model_name": "LayoutModel",
            "_view_count": null,
            "_view_module": "@jupyter-widgets/base",
            "_view_module_version": "1.2.0",
            "_view_name": "LayoutView",
            "align_content": null,
            "align_items": null,
            "align_self": null,
            "border": null,
            "bottom": null,
            "display": null,
            "flex": null,
            "flex_flow": null,
            "grid_area": null,
            "grid_auto_columns": null,
            "grid_auto_flow": null,
            "grid_auto_rows": null,
            "grid_column": null,
            "grid_gap": null,
            "grid_row": null,
            "grid_template_areas": null,
            "grid_template_columns": null,
            "grid_template_rows": null,
            "height": null,
            "justify_content": null,
            "justify_items": null,
            "left": null,
            "margin": null,
            "max_height": null,
            "max_width": null,
            "min_height": null,
            "min_width": null,
            "object_fit": null,
            "object_position": null,
            "order": null,
            "overflow": null,
            "overflow_x": null,
            "overflow_y": null,
            "padding": null,
            "right": null,
            "top": null,
            "visibility": null,
            "width": null
          }
        },
        "9746dc27de4848ff8f400c28a9683168": {
          "model_module": "@jupyter-widgets/base",
          "model_name": "LayoutModel",
          "model_module_version": "1.2.0",
          "state": {
            "_model_module": "@jupyter-widgets/base",
            "_model_module_version": "1.2.0",
            "_model_name": "LayoutModel",
            "_view_count": null,
            "_view_module": "@jupyter-widgets/base",
            "_view_module_version": "1.2.0",
            "_view_name": "LayoutView",
            "align_content": null,
            "align_items": null,
            "align_self": null,
            "border": null,
            "bottom": null,
            "display": null,
            "flex": null,
            "flex_flow": null,
            "grid_area": null,
            "grid_auto_columns": null,
            "grid_auto_flow": null,
            "grid_auto_rows": null,
            "grid_column": null,
            "grid_gap": null,
            "grid_row": null,
            "grid_template_areas": null,
            "grid_template_columns": null,
            "grid_template_rows": null,
            "height": null,
            "justify_content": null,
            "justify_items": null,
            "left": null,
            "margin": null,
            "max_height": null,
            "max_width": null,
            "min_height": null,
            "min_width": null,
            "object_fit": null,
            "object_position": null,
            "order": null,
            "overflow": null,
            "overflow_x": null,
            "overflow_y": null,
            "padding": null,
            "right": null,
            "top": null,
            "visibility": null,
            "width": "100%"
          }
        },
        "15bca58ae6ed4d96bc9f78fc97277a78": {
          "model_module": "@jupyter-widgets/controls",
          "model_name": "DescriptionStyleModel",
          "model_module_version": "1.5.0",
          "state": {
            "_model_module": "@jupyter-widgets/controls",
            "_model_module_version": "1.5.0",
            "_model_name": "DescriptionStyleModel",
            "_view_count": null,
            "_view_module": "@jupyter-widgets/base",
            "_view_module_version": "1.2.0",
            "_view_name": "StyleView",
            "description_width": ""
          }
        },
        "d762c5c9ae774473bd15682f720b2d52": {
          "model_module": "@jupyter-widgets/base",
          "model_name": "LayoutModel",
          "model_module_version": "1.2.0",
          "state": {
            "_model_module": "@jupyter-widgets/base",
            "_model_module_version": "1.2.0",
            "_model_name": "LayoutModel",
            "_view_count": null,
            "_view_module": "@jupyter-widgets/base",
            "_view_module_version": "1.2.0",
            "_view_name": "LayoutView",
            "align_content": null,
            "align_items": null,
            "align_self": null,
            "border": null,
            "bottom": null,
            "display": null,
            "flex": null,
            "flex_flow": null,
            "grid_area": null,
            "grid_auto_columns": null,
            "grid_auto_flow": null,
            "grid_auto_rows": null,
            "grid_column": null,
            "grid_gap": null,
            "grid_row": null,
            "grid_template_areas": null,
            "grid_template_columns": null,
            "grid_template_rows": null,
            "height": null,
            "justify_content": null,
            "justify_items": null,
            "left": null,
            "margin": null,
            "max_height": null,
            "max_width": null,
            "min_height": null,
            "min_width": null,
            "object_fit": null,
            "object_position": null,
            "order": null,
            "overflow": null,
            "overflow_x": null,
            "overflow_y": null,
            "padding": null,
            "right": null,
            "top": null,
            "visibility": null,
            "width": "100%"
          }
        },
        "741ddb5af1474efca15caed0efc4102a": {
          "model_module": "@jupyter-widgets/controls",
          "model_name": "DescriptionStyleModel",
          "model_module_version": "1.5.0",
          "state": {
            "_model_module": "@jupyter-widgets/controls",
            "_model_module_version": "1.5.0",
            "_model_name": "DescriptionStyleModel",
            "_view_count": null,
            "_view_module": "@jupyter-widgets/base",
            "_view_module_version": "1.2.0",
            "_view_name": "StyleView",
            "description_width": ""
          }
        },
        "434d646cce7d4a8e8731968057cbb22f": {
          "model_module": "@jupyter-widgets/controls",
          "model_name": "ButtonModel",
          "model_module_version": "1.5.0",
          "state": {
            "_dom_classes": [],
            "_model_module": "@jupyter-widgets/controls",
            "_model_module_version": "1.5.0",
            "_model_name": "ButtonModel",
            "_view_count": null,
            "_view_module": "@jupyter-widgets/controls",
            "_view_module_version": "1.5.0",
            "_view_name": "ButtonView",
            "button_style": "success",
            "description": "Ask Weather 🌤",
            "disabled": false,
            "icon": "",
            "layout": "IPY_MODEL_b5d7e190d0e74b1ab762115c0c0d2795",
            "style": "IPY_MODEL_050fc4ab6a4949f58f1a6f035e37650f",
            "tooltip": ""
          }
        },
        "b49e0b8a688b44e0a23f40efa92306b8": {
          "model_module": "@jupyter-widgets/controls",
          "model_name": "ButtonModel",
          "model_module_version": "1.5.0",
          "state": {
            "_dom_classes": [],
            "_model_module": "@jupyter-widgets/controls",
            "_model_module_version": "1.5.0",
            "_model_name": "ButtonModel",
            "_view_count": null,
            "_view_module": "@jupyter-widgets/controls",
            "_view_module_version": "1.5.0",
            "_view_name": "ButtonView",
            "button_style": "warning",
            "description": "Reset 🔄",
            "disabled": false,
            "icon": "",
            "layout": "IPY_MODEL_7fca3f5c502741bca348301ffc02eb3c",
            "style": "IPY_MODEL_422c046765d34ef68a5091f60df84ba1",
            "tooltip": ""
          }
        },
        "ab7e21e098fd43cca92880dea2a2c830": {
          "model_module": "@jupyter-widgets/base",
          "model_name": "LayoutModel",
          "model_module_version": "1.2.0",
          "state": {
            "_model_module": "@jupyter-widgets/base",
            "_model_module_version": "1.2.0",
            "_model_name": "LayoutModel",
            "_view_count": null,
            "_view_module": "@jupyter-widgets/base",
            "_view_module_version": "1.2.0",
            "_view_name": "LayoutView",
            "align_content": null,
            "align_items": null,
            "align_self": null,
            "border": null,
            "bottom": null,
            "display": null,
            "flex": null,
            "flex_flow": null,
            "grid_area": null,
            "grid_auto_columns": null,
            "grid_auto_flow": null,
            "grid_auto_rows": null,
            "grid_column": null,
            "grid_gap": null,
            "grid_row": null,
            "grid_template_areas": null,
            "grid_template_columns": null,
            "grid_template_rows": null,
            "height": null,
            "justify_content": null,
            "justify_items": null,
            "left": null,
            "margin": null,
            "max_height": null,
            "max_width": null,
            "min_height": null,
            "min_width": null,
            "object_fit": null,
            "object_position": null,
            "order": null,
            "overflow": null,
            "overflow_x": null,
            "overflow_y": null,
            "padding": null,
            "right": null,
            "top": null,
            "visibility": null,
            "width": null
          }
        },
        "b5d7e190d0e74b1ab762115c0c0d2795": {
          "model_module": "@jupyter-widgets/base",
          "model_name": "LayoutModel",
          "model_module_version": "1.2.0",
          "state": {
            "_model_module": "@jupyter-widgets/base",
            "_model_module_version": "1.2.0",
            "_model_name": "LayoutModel",
            "_view_count": null,
            "_view_module": "@jupyter-widgets/base",
            "_view_module_version": "1.2.0",
            "_view_name": "LayoutView",
            "align_content": null,
            "align_items": null,
            "align_self": null,
            "border": null,
            "bottom": null,
            "display": null,
            "flex": null,
            "flex_flow": null,
            "grid_area": null,
            "grid_auto_columns": null,
            "grid_auto_flow": null,
            "grid_auto_rows": null,
            "grid_column": null,
            "grid_gap": null,
            "grid_row": null,
            "grid_template_areas": null,
            "grid_template_columns": null,
            "grid_template_rows": null,
            "height": null,
            "justify_content": null,
            "justify_items": null,
            "left": null,
            "margin": null,
            "max_height": null,
            "max_width": null,
            "min_height": null,
            "min_width": null,
            "object_fit": null,
            "object_position": null,
            "order": null,
            "overflow": null,
            "overflow_x": null,
            "overflow_y": null,
            "padding": null,
            "right": null,
            "top": null,
            "visibility": null,
            "width": null
          }
        },
        "050fc4ab6a4949f58f1a6f035e37650f": {
          "model_module": "@jupyter-widgets/controls",
          "model_name": "ButtonStyleModel",
          "model_module_version": "1.5.0",
          "state": {
            "_model_module": "@jupyter-widgets/controls",
            "_model_module_version": "1.5.0",
            "_model_name": "ButtonStyleModel",
            "_view_count": null,
            "_view_module": "@jupyter-widgets/base",
            "_view_module_version": "1.2.0",
            "_view_name": "StyleView",
            "button_color": null,
            "font_weight": ""
          }
        },
        "7fca3f5c502741bca348301ffc02eb3c": {
          "model_module": "@jupyter-widgets/base",
          "model_name": "LayoutModel",
          "model_module_version": "1.2.0",
          "state": {
            "_model_module": "@jupyter-widgets/base",
            "_model_module_version": "1.2.0",
            "_model_name": "LayoutModel",
            "_view_count": null,
            "_view_module": "@jupyter-widgets/base",
            "_view_module_version": "1.2.0",
            "_view_name": "LayoutView",
            "align_content": null,
            "align_items": null,
            "align_self": null,
            "border": null,
            "bottom": null,
            "display": null,
            "flex": null,
            "flex_flow": null,
            "grid_area": null,
            "grid_auto_columns": null,
            "grid_auto_flow": null,
            "grid_auto_rows": null,
            "grid_column": null,
            "grid_gap": null,
            "grid_row": null,
            "grid_template_areas": null,
            "grid_template_columns": null,
            "grid_template_rows": null,
            "height": null,
            "justify_content": null,
            "justify_items": null,
            "left": null,
            "margin": null,
            "max_height": null,
            "max_width": null,
            "min_height": null,
            "min_width": null,
            "object_fit": null,
            "object_position": null,
            "order": null,
            "overflow": null,
            "overflow_x": null,
            "overflow_y": null,
            "padding": null,
            "right": null,
            "top": null,
            "visibility": null,
            "width": null
          }
        },
        "422c046765d34ef68a5091f60df84ba1": {
          "model_module": "@jupyter-widgets/controls",
          "model_name": "ButtonStyleModel",
          "model_module_version": "1.5.0",
          "state": {
            "_model_module": "@jupyter-widgets/controls",
            "_model_module_version": "1.5.0",
            "_model_name": "ButtonStyleModel",
            "_view_count": null,
            "_view_module": "@jupyter-widgets/base",
            "_view_module_version": "1.2.0",
            "_view_name": "StyleView",
            "button_color": null,
            "font_weight": ""
          }
        },
        "cc5be64144094b4db6fa9a00b3655ad1": {
          "model_module": "@jupyter-widgets/base",
          "model_name": "LayoutModel",
          "model_module_version": "1.2.0",
          "state": {
            "_model_module": "@jupyter-widgets/base",
            "_model_module_version": "1.2.0",
            "_model_name": "LayoutModel",
            "_view_count": null,
            "_view_module": "@jupyter-widgets/base",
            "_view_module_version": "1.2.0",
            "_view_name": "LayoutView",
            "align_content": null,
            "align_items": null,
            "align_self": null,
            "border": null,
            "bottom": null,
            "display": null,
            "flex": null,
            "flex_flow": null,
            "grid_area": null,
            "grid_auto_columns": null,
            "grid_auto_flow": null,
            "grid_auto_rows": null,
            "grid_column": null,
            "grid_gap": null,
            "grid_row": null,
            "grid_template_areas": null,
            "grid_template_columns": null,
            "grid_template_rows": null,
            "height": null,
            "justify_content": null,
            "justify_items": null,
            "left": null,
            "margin": null,
            "max_height": null,
            "max_width": null,
            "min_height": null,
            "min_width": null,
            "object_fit": null,
            "object_position": null,
            "order": null,
            "overflow": null,
            "overflow_x": null,
            "overflow_y": null,
            "padding": null,
            "right": null,
            "top": null,
            "visibility": null,
            "width": null
          }
        }
      }
    }
  },
  "nbformat": 4,
  "nbformat_minor": 5
}