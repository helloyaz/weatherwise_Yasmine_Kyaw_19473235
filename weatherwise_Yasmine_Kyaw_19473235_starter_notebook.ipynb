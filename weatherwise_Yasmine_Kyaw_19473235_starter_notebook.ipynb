{
  "cells": [
    {
      "cell_type": "markdown",
      "metadata": {
        "id": "view-in-github",
        "colab_type": "text"
      },
      "source": [
        "<a href=\"https://colab.research.google.com/github/helloyaz/weatherwise_Yasmine_Kyaw_19473235/blob/main/weatherwise_Yasmine_Kyaw_19473235_starter_notebook.ipynb\" target=\"_parent\"><img src=\"https://colab.research.google.com/assets/colab-badge.svg\" alt=\"Open In Colab\"/></a>"
      ]
    },
    {
      "cell_type": "markdown",
      "id": "72e78a05",
      "metadata": {
        "id": "72e78a05"
      },
      "source": [
        "# 🌦️ WeatherWise – Starter Notebook\n",
        "\n",
        "Welcome to your **WeatherWise** project notebook! This scaffold is designed to help you build your weather advisor app using Python, visualisations, and AI-enhanced development.\n",
        "\n",
        "---\n",
        "\n",
        "📄 **Full Assignment Specification**  \n",
        "See [`ASSIGNMENT.md`](ASSIGNMENT.md) or check the LMS for full details.\n",
        "\n",
        "📝 **Quick Refresher**  \n",
        "A one-page summary is available in [`resources/assignment-summary.md`](resources/assignment-summary.md).\n",
        "\n",
        "---\n",
        "\n",
        "🧠 **This Notebook Structure is Optional**  \n",
        "You’re encouraged to reorganise, rename sections, or remove scaffold cells if you prefer — as long as your final version meets the requirements.\n",
        "\n",
        "✅ You may delete this note before submission.\n",
        "\n"
      ]
    },
    {
      "cell_type": "markdown",
      "id": "fa8c7f6c",
      "metadata": {
        "id": "fa8c7f6c"
      },
      "source": [
        "## 🧰 Setup and Imports\n",
        "\n",
        "This section imports commonly used packages and installs any additional tools used in the project.\n",
        "\n",
        "- You may not need all of these unless you're using specific features (e.g. visualisations, advanced prompting).\n",
        "- The notebook assumes the following packages are **pre-installed** in the provided environment or installable via pip:\n",
        "  - `requests`, `matplotlib`, `pyinputplus`\n",
        "  - `fetch-my-weather` (for accessing weather data easily)\n",
        "  - `hands-on-ai` (for AI logging, comparisons, or prompting tools)\n",
        "\n",
        "If you're running this notebook in **Google Colab**, uncomment the following lines to install the required packages.\n"
      ]
    },
    {
      "cell_type": "code",
      "execution_count": null,
      "id": "70c3f3f1",
      "metadata": {
        "id": "70c3f3f1",
        "outputId": "dab47410-348b-4ac6-8719-310a1bee4a31",
        "colab": {
          "base_uri": "https://localhost:8080/"
        }
      },
      "outputs": [
        {
          "output_type": "stream",
          "name": "stdout",
          "text": [
            "Requirement already satisfied: fetch-my-weather in /usr/local/lib/python3.11/dist-packages (0.4.0)\n",
            "Requirement already satisfied: requests>=2.25.0 in /usr/local/lib/python3.11/dist-packages (from fetch-my-weather) (2.32.3)\n",
            "Requirement already satisfied: pydantic>=1.8.0 in /usr/local/lib/python3.11/dist-packages (from fetch-my-weather) (2.11.4)\n",
            "Requirement already satisfied: annotated-types>=0.6.0 in /usr/local/lib/python3.11/dist-packages (from pydantic>=1.8.0->fetch-my-weather) (0.7.0)\n",
            "Requirement already satisfied: pydantic-core==2.33.2 in /usr/local/lib/python3.11/dist-packages (from pydantic>=1.8.0->fetch-my-weather) (2.33.2)\n",
            "Requirement already satisfied: typing-extensions>=4.12.2 in /usr/local/lib/python3.11/dist-packages (from pydantic>=1.8.0->fetch-my-weather) (4.13.2)\n",
            "Requirement already satisfied: typing-inspection>=0.4.0 in /usr/local/lib/python3.11/dist-packages (from pydantic>=1.8.0->fetch-my-weather) (0.4.0)\n",
            "Requirement already satisfied: charset-normalizer<4,>=2 in /usr/local/lib/python3.11/dist-packages (from requests>=2.25.0->fetch-my-weather) (3.4.1)\n",
            "Requirement already satisfied: idna<4,>=2.5 in /usr/local/lib/python3.11/dist-packages (from requests>=2.25.0->fetch-my-weather) (3.10)\n",
            "Requirement already satisfied: urllib3<3,>=1.21.1 in /usr/local/lib/python3.11/dist-packages (from requests>=2.25.0->fetch-my-weather) (2.4.0)\n",
            "Requirement already satisfied: certifi>=2017.4.17 in /usr/local/lib/python3.11/dist-packages (from requests>=2.25.0->fetch-my-weather) (2025.4.26)\n",
            "Requirement already satisfied: hands-on-ai in /usr/local/lib/python3.11/dist-packages (0.1.9)\n",
            "Requirement already satisfied: requests in /usr/local/lib/python3.11/dist-packages (from hands-on-ai) (2.32.3)\n",
            "Requirement already satisfied: typer in /usr/local/lib/python3.11/dist-packages (from hands-on-ai) (0.15.3)\n",
            "Requirement already satisfied: python-fasthtml in /usr/local/lib/python3.11/dist-packages (from hands-on-ai) (0.12.15)\n",
            "Requirement already satisfied: python-docx in /usr/local/lib/python3.11/dist-packages (from hands-on-ai) (1.1.2)\n",
            "Requirement already satisfied: pymupdf in /usr/local/lib/python3.11/dist-packages (from hands-on-ai) (1.25.5)\n",
            "Requirement already satisfied: scikit-learn in /usr/local/lib/python3.11/dist-packages (from hands-on-ai) (1.6.1)\n",
            "Requirement already satisfied: numpy in /usr/local/lib/python3.11/dist-packages (from hands-on-ai) (2.0.2)\n",
            "Requirement already satisfied: lxml>=3.1.0 in /usr/local/lib/python3.11/dist-packages (from python-docx->hands-on-ai) (5.4.0)\n",
            "Requirement already satisfied: typing-extensions>=4.9.0 in /usr/local/lib/python3.11/dist-packages (from python-docx->hands-on-ai) (4.13.2)\n",
            "Requirement already satisfied: fastcore>=1.8.1 in /usr/local/lib/python3.11/dist-packages (from python-fasthtml->hands-on-ai) (1.8.2)\n",
            "Requirement already satisfied: python-dateutil in /usr/local/lib/python3.11/dist-packages (from python-fasthtml->hands-on-ai) (2.9.0.post0)\n",
            "Requirement already satisfied: starlette>0.33 in /usr/local/lib/python3.11/dist-packages (from python-fasthtml->hands-on-ai) (0.46.2)\n",
            "Requirement already satisfied: oauthlib in /usr/local/lib/python3.11/dist-packages (from python-fasthtml->hands-on-ai) (3.2.2)\n",
            "Requirement already satisfied: itsdangerous in /usr/local/lib/python3.11/dist-packages (from python-fasthtml->hands-on-ai) (2.2.0)\n",
            "Requirement already satisfied: uvicorn>=0.30 in /usr/local/lib/python3.11/dist-packages (from uvicorn[standard]>=0.30->python-fasthtml->hands-on-ai) (0.34.2)\n",
            "Requirement already satisfied: httpx in /usr/local/lib/python3.11/dist-packages (from python-fasthtml->hands-on-ai) (0.28.1)\n",
            "Requirement already satisfied: fastlite>=0.1.1 in /usr/local/lib/python3.11/dist-packages (from python-fasthtml->hands-on-ai) (0.1.3)\n",
            "Requirement already satisfied: python-multipart in /usr/local/lib/python3.11/dist-packages (from python-fasthtml->hands-on-ai) (0.0.20)\n",
            "Requirement already satisfied: beautifulsoup4 in /usr/local/lib/python3.11/dist-packages (from python-fasthtml->hands-on-ai) (4.13.4)\n",
            "Requirement already satisfied: charset-normalizer<4,>=2 in /usr/local/lib/python3.11/dist-packages (from requests->hands-on-ai) (3.4.1)\n",
            "Requirement already satisfied: idna<4,>=2.5 in /usr/local/lib/python3.11/dist-packages (from requests->hands-on-ai) (3.10)\n",
            "Requirement already satisfied: urllib3<3,>=1.21.1 in /usr/local/lib/python3.11/dist-packages (from requests->hands-on-ai) (2.4.0)\n",
            "Requirement already satisfied: certifi>=2017.4.17 in /usr/local/lib/python3.11/dist-packages (from requests->hands-on-ai) (2025.4.26)\n",
            "Requirement already satisfied: scipy>=1.6.0 in /usr/local/lib/python3.11/dist-packages (from scikit-learn->hands-on-ai) (1.15.2)\n",
            "Requirement already satisfied: joblib>=1.2.0 in /usr/local/lib/python3.11/dist-packages (from scikit-learn->hands-on-ai) (1.4.2)\n",
            "Requirement already satisfied: threadpoolctl>=3.1.0 in /usr/local/lib/python3.11/dist-packages (from scikit-learn->hands-on-ai) (3.6.0)\n",
            "Requirement already satisfied: click>=8.0.0 in /usr/local/lib/python3.11/dist-packages (from typer->hands-on-ai) (8.1.8)\n",
            "Requirement already satisfied: shellingham>=1.3.0 in /usr/local/lib/python3.11/dist-packages (from typer->hands-on-ai) (1.5.4)\n",
            "Requirement already satisfied: rich>=10.11.0 in /usr/local/lib/python3.11/dist-packages (from typer->hands-on-ai) (13.9.4)\n",
            "Requirement already satisfied: packaging in /usr/local/lib/python3.11/dist-packages (from fastcore>=1.8.1->python-fasthtml->hands-on-ai) (24.2)\n",
            "Requirement already satisfied: apswutils>=0.0.2 in /usr/local/lib/python3.11/dist-packages (from fastlite>=0.1.1->python-fasthtml->hands-on-ai) (0.0.2)\n",
            "Requirement already satisfied: markdown-it-py>=2.2.0 in /usr/local/lib/python3.11/dist-packages (from rich>=10.11.0->typer->hands-on-ai) (3.0.0)\n",
            "Requirement already satisfied: pygments<3.0.0,>=2.13.0 in /usr/local/lib/python3.11/dist-packages (from rich>=10.11.0->typer->hands-on-ai) (2.19.1)\n",
            "Requirement already satisfied: anyio<5,>=3.6.2 in /usr/local/lib/python3.11/dist-packages (from starlette>0.33->python-fasthtml->hands-on-ai) (4.9.0)\n",
            "Requirement already satisfied: h11>=0.8 in /usr/local/lib/python3.11/dist-packages (from uvicorn>=0.30->uvicorn[standard]>=0.30->python-fasthtml->hands-on-ai) (0.16.0)\n",
            "Requirement already satisfied: httptools>=0.6.3 in /usr/local/lib/python3.11/dist-packages (from uvicorn[standard]>=0.30->python-fasthtml->hands-on-ai) (0.6.4)\n",
            "Requirement already satisfied: python-dotenv>=0.13 in /usr/local/lib/python3.11/dist-packages (from uvicorn[standard]>=0.30->python-fasthtml->hands-on-ai) (1.1.0)\n",
            "Requirement already satisfied: pyyaml>=5.1 in /usr/local/lib/python3.11/dist-packages (from uvicorn[standard]>=0.30->python-fasthtml->hands-on-ai) (6.0.2)\n",
            "Requirement already satisfied: uvloop!=0.15.0,!=0.15.1,>=0.14.0 in /usr/local/lib/python3.11/dist-packages (from uvicorn[standard]>=0.30->python-fasthtml->hands-on-ai) (0.21.0)\n",
            "Requirement already satisfied: watchfiles>=0.13 in /usr/local/lib/python3.11/dist-packages (from uvicorn[standard]>=0.30->python-fasthtml->hands-on-ai) (1.0.5)\n",
            "Requirement already satisfied: websockets>=10.4 in /usr/local/lib/python3.11/dist-packages (from uvicorn[standard]>=0.30->python-fasthtml->hands-on-ai) (15.0.1)\n",
            "Requirement already satisfied: soupsieve>1.2 in /usr/local/lib/python3.11/dist-packages (from beautifulsoup4->python-fasthtml->hands-on-ai) (2.7)\n",
            "Requirement already satisfied: httpcore==1.* in /usr/local/lib/python3.11/dist-packages (from httpx->python-fasthtml->hands-on-ai) (1.0.9)\n",
            "Requirement already satisfied: six>=1.5 in /usr/local/lib/python3.11/dist-packages (from python-dateutil->python-fasthtml->hands-on-ai) (1.17.0)\n",
            "Requirement already satisfied: sniffio>=1.1 in /usr/local/lib/python3.11/dist-packages (from anyio<5,>=3.6.2->starlette>0.33->python-fasthtml->hands-on-ai) (1.3.1)\n",
            "Requirement already satisfied: apsw in /usr/local/lib/python3.11/dist-packages (from apswutils>=0.0.2->fastlite>=0.1.1->python-fasthtml->hands-on-ai) (3.49.2.0)\n",
            "Requirement already satisfied: mdurl~=0.1 in /usr/local/lib/python3.11/dist-packages (from markdown-it-py>=2.2.0->rich>=10.11.0->typer->hands-on-ai) (0.1.2)\n"
          ]
        }
      ],
      "source": [
        "!pip install fetch-my-weather\n",
        "!pip install hands-on-ai\n"
      ]
    },
    {
      "cell_type": "code",
      "source": [
        "import os\n",
        "\n",
        "os.environ['HANDS_ON_AI_SERVER'] = 'http://ollama.serveur.au'\n",
        "os.environ['HANDS_ON_AI_MODEL'] = 'granite3.2'\n",
        "os.environ['HANDS_ON_AI_API_KEY'] = input('Enter your API key: ')"
      ],
      "metadata": {
        "id": "B2JKlJfrGgIb",
        "outputId": "77a9f596-8963-4344-9f18-c0929f404dab",
        "colab": {
          "base_uri": "https://localhost:8080/"
        }
      },
      "id": "B2JKlJfrGgIb",
      "execution_count": null,
      "outputs": [
        {
          "name": "stdout",
          "output_type": "stream",
          "text": [
            "Enter your API key: \n"
          ]
        }
      ]
    },
    {
      "cell_type": "markdown",
      "id": "59ae7543",
      "metadata": {
        "id": "59ae7543"
      },
      "source": [
        "## 📦 Setup and Configuration\n",
        "Import required packages and setup environment."
      ]
    },
    {
      "cell_type": "code",
      "source": [
        "!pip install fetch-my-weather hands-on-ai pyinputplus\n"
      ],
      "metadata": {
        "collapsed": true,
        "id": "sW_K9_XAjmMR",
        "outputId": "638c6b82-5190-4ece-f01e-7bd510914af3",
        "colab": {
          "base_uri": "https://localhost:8080/"
        }
      },
      "id": "sW_K9_XAjmMR",
      "execution_count": 4,
      "outputs": [
        {
          "output_type": "stream",
          "name": "stdout",
          "text": [
            "Requirement already satisfied: fetch-my-weather in /usr/local/lib/python3.11/dist-packages (0.4.0)\n",
            "Requirement already satisfied: hands-on-ai in /usr/local/lib/python3.11/dist-packages (0.1.9)\n",
            "Requirement already satisfied: pyinputplus in /usr/local/lib/python3.11/dist-packages (0.2.12)\n",
            "Requirement already satisfied: requests>=2.25.0 in /usr/local/lib/python3.11/dist-packages (from fetch-my-weather) (2.32.3)\n",
            "Requirement already satisfied: pydantic>=1.8.0 in /usr/local/lib/python3.11/dist-packages (from fetch-my-weather) (2.11.4)\n",
            "Requirement already satisfied: typer in /usr/local/lib/python3.11/dist-packages (from hands-on-ai) (0.15.3)\n",
            "Requirement already satisfied: python-fasthtml in /usr/local/lib/python3.11/dist-packages (from hands-on-ai) (0.12.15)\n",
            "Requirement already satisfied: python-docx in /usr/local/lib/python3.11/dist-packages (from hands-on-ai) (1.1.2)\n",
            "Requirement already satisfied: pymupdf in /usr/local/lib/python3.11/dist-packages (from hands-on-ai) (1.25.5)\n",
            "Requirement already satisfied: scikit-learn in /usr/local/lib/python3.11/dist-packages (from hands-on-ai) (1.6.1)\n",
            "Requirement already satisfied: numpy in /usr/local/lib/python3.11/dist-packages (from hands-on-ai) (2.0.2)\n",
            "Requirement already satisfied: pysimplevalidate>=0.2.7 in /usr/local/lib/python3.11/dist-packages (from pyinputplus) (0.2.12)\n",
            "Requirement already satisfied: stdiomask>=0.0.3 in /usr/local/lib/python3.11/dist-packages (from pyinputplus) (0.0.6)\n",
            "Requirement already satisfied: annotated-types>=0.6.0 in /usr/local/lib/python3.11/dist-packages (from pydantic>=1.8.0->fetch-my-weather) (0.7.0)\n",
            "Requirement already satisfied: pydantic-core==2.33.2 in /usr/local/lib/python3.11/dist-packages (from pydantic>=1.8.0->fetch-my-weather) (2.33.2)\n",
            "Requirement already satisfied: typing-extensions>=4.12.2 in /usr/local/lib/python3.11/dist-packages (from pydantic>=1.8.0->fetch-my-weather) (4.13.2)\n",
            "Requirement already satisfied: typing-inspection>=0.4.0 in /usr/local/lib/python3.11/dist-packages (from pydantic>=1.8.0->fetch-my-weather) (0.4.0)\n",
            "Requirement already satisfied: charset-normalizer<4,>=2 in /usr/local/lib/python3.11/dist-packages (from requests>=2.25.0->fetch-my-weather) (3.4.1)\n",
            "Requirement already satisfied: idna<4,>=2.5 in /usr/local/lib/python3.11/dist-packages (from requests>=2.25.0->fetch-my-weather) (3.10)\n",
            "Requirement already satisfied: urllib3<3,>=1.21.1 in /usr/local/lib/python3.11/dist-packages (from requests>=2.25.0->fetch-my-weather) (2.4.0)\n",
            "Requirement already satisfied: certifi>=2017.4.17 in /usr/local/lib/python3.11/dist-packages (from requests>=2.25.0->fetch-my-weather) (2025.4.26)\n",
            "Requirement already satisfied: lxml>=3.1.0 in /usr/local/lib/python3.11/dist-packages (from python-docx->hands-on-ai) (5.4.0)\n",
            "Requirement already satisfied: fastcore>=1.8.1 in /usr/local/lib/python3.11/dist-packages (from python-fasthtml->hands-on-ai) (1.8.2)\n",
            "Requirement already satisfied: python-dateutil in /usr/local/lib/python3.11/dist-packages (from python-fasthtml->hands-on-ai) (2.9.0.post0)\n",
            "Requirement already satisfied: starlette>0.33 in /usr/local/lib/python3.11/dist-packages (from python-fasthtml->hands-on-ai) (0.46.2)\n",
            "Requirement already satisfied: oauthlib in /usr/local/lib/python3.11/dist-packages (from python-fasthtml->hands-on-ai) (3.2.2)\n",
            "Requirement already satisfied: itsdangerous in /usr/local/lib/python3.11/dist-packages (from python-fasthtml->hands-on-ai) (2.2.0)\n",
            "Requirement already satisfied: uvicorn>=0.30 in /usr/local/lib/python3.11/dist-packages (from uvicorn[standard]>=0.30->python-fasthtml->hands-on-ai) (0.34.2)\n",
            "Requirement already satisfied: httpx in /usr/local/lib/python3.11/dist-packages (from python-fasthtml->hands-on-ai) (0.28.1)\n",
            "Requirement already satisfied: fastlite>=0.1.1 in /usr/local/lib/python3.11/dist-packages (from python-fasthtml->hands-on-ai) (0.1.3)\n",
            "Requirement already satisfied: python-multipart in /usr/local/lib/python3.11/dist-packages (from python-fasthtml->hands-on-ai) (0.0.20)\n",
            "Requirement already satisfied: beautifulsoup4 in /usr/local/lib/python3.11/dist-packages (from python-fasthtml->hands-on-ai) (4.13.4)\n",
            "Requirement already satisfied: scipy>=1.6.0 in /usr/local/lib/python3.11/dist-packages (from scikit-learn->hands-on-ai) (1.15.2)\n",
            "Requirement already satisfied: joblib>=1.2.0 in /usr/local/lib/python3.11/dist-packages (from scikit-learn->hands-on-ai) (1.4.2)\n",
            "Requirement already satisfied: threadpoolctl>=3.1.0 in /usr/local/lib/python3.11/dist-packages (from scikit-learn->hands-on-ai) (3.6.0)\n",
            "Requirement already satisfied: click>=8.0.0 in /usr/local/lib/python3.11/dist-packages (from typer->hands-on-ai) (8.1.8)\n",
            "Requirement already satisfied: shellingham>=1.3.0 in /usr/local/lib/python3.11/dist-packages (from typer->hands-on-ai) (1.5.4)\n",
            "Requirement already satisfied: rich>=10.11.0 in /usr/local/lib/python3.11/dist-packages (from typer->hands-on-ai) (13.9.4)\n",
            "Requirement already satisfied: packaging in /usr/local/lib/python3.11/dist-packages (from fastcore>=1.8.1->python-fasthtml->hands-on-ai) (24.2)\n",
            "Requirement already satisfied: apswutils>=0.0.2 in /usr/local/lib/python3.11/dist-packages (from fastlite>=0.1.1->python-fasthtml->hands-on-ai) (0.0.2)\n",
            "Requirement already satisfied: markdown-it-py>=2.2.0 in /usr/local/lib/python3.11/dist-packages (from rich>=10.11.0->typer->hands-on-ai) (3.0.0)\n",
            "Requirement already satisfied: pygments<3.0.0,>=2.13.0 in /usr/local/lib/python3.11/dist-packages (from rich>=10.11.0->typer->hands-on-ai) (2.19.1)\n",
            "Requirement already satisfied: anyio<5,>=3.6.2 in /usr/local/lib/python3.11/dist-packages (from starlette>0.33->python-fasthtml->hands-on-ai) (4.9.0)\n",
            "Requirement already satisfied: h11>=0.8 in /usr/local/lib/python3.11/dist-packages (from uvicorn>=0.30->uvicorn[standard]>=0.30->python-fasthtml->hands-on-ai) (0.16.0)\n",
            "Requirement already satisfied: httptools>=0.6.3 in /usr/local/lib/python3.11/dist-packages (from uvicorn[standard]>=0.30->python-fasthtml->hands-on-ai) (0.6.4)\n",
            "Requirement already satisfied: python-dotenv>=0.13 in /usr/local/lib/python3.11/dist-packages (from uvicorn[standard]>=0.30->python-fasthtml->hands-on-ai) (1.1.0)\n",
            "Requirement already satisfied: pyyaml>=5.1 in /usr/local/lib/python3.11/dist-packages (from uvicorn[standard]>=0.30->python-fasthtml->hands-on-ai) (6.0.2)\n",
            "Requirement already satisfied: uvloop!=0.15.0,!=0.15.1,>=0.14.0 in /usr/local/lib/python3.11/dist-packages (from uvicorn[standard]>=0.30->python-fasthtml->hands-on-ai) (0.21.0)\n",
            "Requirement already satisfied: watchfiles>=0.13 in /usr/local/lib/python3.11/dist-packages (from uvicorn[standard]>=0.30->python-fasthtml->hands-on-ai) (1.0.5)\n",
            "Requirement already satisfied: websockets>=10.4 in /usr/local/lib/python3.11/dist-packages (from uvicorn[standard]>=0.30->python-fasthtml->hands-on-ai) (15.0.1)\n",
            "Requirement already satisfied: soupsieve>1.2 in /usr/local/lib/python3.11/dist-packages (from beautifulsoup4->python-fasthtml->hands-on-ai) (2.7)\n",
            "Requirement already satisfied: httpcore==1.* in /usr/local/lib/python3.11/dist-packages (from httpx->python-fasthtml->hands-on-ai) (1.0.9)\n",
            "Requirement already satisfied: six>=1.5 in /usr/local/lib/python3.11/dist-packages (from python-dateutil->python-fasthtml->hands-on-ai) (1.17.0)\n",
            "Requirement already satisfied: sniffio>=1.1 in /usr/local/lib/python3.11/dist-packages (from anyio<5,>=3.6.2->starlette>0.33->python-fasthtml->hands-on-ai) (1.3.1)\n",
            "Requirement already satisfied: apsw in /usr/local/lib/python3.11/dist-packages (from apswutils>=0.0.2->fastlite>=0.1.1->python-fasthtml->hands-on-ai) (3.49.2.0)\n",
            "Requirement already satisfied: mdurl~=0.1 in /usr/local/lib/python3.11/dist-packages (from markdown-it-py>=2.2.0->rich>=10.11.0->typer->hands-on-ai) (0.1.2)\n"
          ]
        }
      ]
    },
    {
      "cell_type": "code",
      "execution_count": 5,
      "id": "f1dd051e",
      "metadata": {
        "id": "f1dd051e"
      },
      "outputs": [],
      "source": [
        "import requests\n",
        "import matplotlib.pyplot as plt\n",
        "import pyinputplus as pyip\n",
        "\n",
        "from fetch_my_weather import get_weather\n",
        "from hands_on_ai.chat import get_response\n",
        "\n",
        "# Add any other setup code here"
      ]
    },
    {
      "cell_type": "markdown",
      "id": "f736ade3",
      "metadata": {
        "id": "f736ade3"
      },
      "source": [
        "## 🌤️ Weather Data Functions"
      ]
    },
    {
      "cell_type": "code",
      "source": [
        "weather_data = get_weather('London')\n",
        "print(weather_data)"
      ],
      "metadata": {
        "id": "NEGvrobmnUsl",
        "outputId": "4e44bfd3-4ff6-4c8b-af44-8668c9302422",
        "colab": {
          "base_uri": "https://localhost:8080/"
        }
      },
      "id": "NEGvrobmnUsl",
      "execution_count": 6,
      "outputs": [
        {
          "output_type": "stream",
          "name": "stdout",
          "text": [
            "current_condition=[CurrentCondition(FeelsLikeC='24', FeelsLikeF='76', cloudcover='50', humidity='57', localObsDateTime='2025-05-12 12:48 PM', observation_time='11:48 AM', precipInches='0.0', precipMM='0.9', pressure='1011', pressureInches='30', temp_C='22', temp_F='72', uvIndex='5', visibility='10', visibilityMiles='6', weatherCode='116', weatherDesc=[WeatherDesc(value='Partly cloudy')], weatherIconUrl=[WeatherIconUrl(value='')], winddir16Point='SSE', winddirDegree='148', windspeedKmph='11', windspeedMiles='7')] nearest_area=[NearestArea(areaName=[AreaName(value='London')], country=[Country(value='United Kingdom')], latitude='51.517', longitude='-0.106', population='7421228', region=[Region(value='City of London Greater London')], weatherUrl=[WeatherIconUrl(value='')])] request=[Request(query='Lat 51.51 and Lon -0.13', type='LatLon')] weather=[DailyForecast(astronomy=[Astronomy(moon_illumination='99', moon_phase='Full Moon', moonrise='09:07 PM', moonset='04:36 AM', sunrise='05:13 AM', sunset='08:42 PM')], avgtempC='16', avgtempF='62', date='2025-05-12', hourly=[HourlyForecast(DewPointC='12', DewPointF='54', FeelsLikeC='14', FeelsLikeF='57', HeatIndexC='14', HeatIndexF='57', WindChillC='14', WindChillF='57', WindGustKmph='5', WindGustMiles='3', chanceoffog='0', chanceoffrost='0', chanceofhightemp='0', chanceofovercast='0', chanceofrain='0', chanceofremdry='89', chanceofsnow='0', chanceofsunshine='92', chanceofthunder='0', chanceofwindy='0', cloudcover='22', humidity='90', precipInches='0.0', precipMM='0.0', pressure='1009', pressureInches='30', tempC='14', tempF='57', time='0', uvIndex='0', visibility='10', visibilityMiles='6', weatherCode='113', weatherDesc=[WeatherDesc(value='Clear ')], weatherIconUrl=[WeatherIconUrl(value='')], winddir16Point='E', winddirDegree='89', windspeedKmph='3', windspeedMiles='2'), HourlyForecast(DewPointC='12', DewPointF='53', FeelsLikeC='12', FeelsLikeF='54', HeatIndexC='13', HeatIndexF='55', WindChillC='12', WindChillF='54', WindGustKmph='13', WindGustMiles='8', chanceoffog='0', chanceoffrost='0', chanceofhightemp='0', chanceofovercast='86', chanceofrain='0', chanceofremdry='83', chanceofsnow='0', chanceofsunshine='18', chanceofthunder='0', chanceofwindy='0', cloudcover='43', humidity='94', precipInches='0.0', precipMM='0.0', pressure='1009', pressureInches='30', tempC='13', tempF='55', time='300', uvIndex='0', visibility='9', visibilityMiles='5', weatherCode='200', weatherDesc=[WeatherDesc(value='Thundery outbreaks in nearby')], weatherIconUrl=[WeatherIconUrl(value='')], winddir16Point='E', winddirDegree='90', windspeedKmph='6', windspeedMiles='4'), HourlyForecast(DewPointC='12', DewPointF='54', FeelsLikeC='14', FeelsLikeF='58', HeatIndexC='14', HeatIndexF='57', WindChillC='14', WindChillF='58', WindGustKmph='6', WindGustMiles='4', chanceoffog='0', chanceoffrost='0', chanceofhightemp='0', chanceofovercast='81', chanceofrain='89', chanceofremdry='0', chanceofsnow='0', chanceofsunshine='0', chanceofthunder='0', chanceofwindy='0', cloudcover='69', humidity='89', precipInches='0.0', precipMM='0.0', pressure='1010', pressureInches='30', tempC='14', tempF='57', time='600', uvIndex='0', visibility='10', visibilityMiles='6', weatherCode='176', weatherDesc=[WeatherDesc(value='Patchy rain nearby')], weatherIconUrl=[WeatherIconUrl(value='')], winddir16Point='SE', winddirDegree='136', windspeedKmph='4', windspeedMiles='2'), HourlyForecast(DewPointC='13', DewPointF='55', FeelsLikeC='18', FeelsLikeF='64', HeatIndexC='18', HeatIndexF='64', WindChillC='18', WindChillF='64', WindGustKmph='10', WindGustMiles='7', chanceoffog='0', chanceoffrost='0', chanceofhightemp='0', chanceofovercast='86', chanceofrain='0', chanceofremdry='86', chanceofsnow='0', chanceofsunshine='7', chanceofthunder='0', chanceofwindy='0', cloudcover='88', humidity='73', precipInches='0.0', precipMM='0.0', pressure='1011', pressureInches='30', tempC='18', tempF='64', time='900', uvIndex='1', visibility='10', visibilityMiles='6', weatherCode='122', weatherDesc=[WeatherDesc(value='Overcast ')], weatherIconUrl=[WeatherIconUrl(value='')], winddir16Point='SSE', winddirDegree='165', windspeedKmph='9', windspeedMiles='6'), HourlyForecast(DewPointC='10', DewPointF='51', FeelsLikeC='24', FeelsLikeF='76', HeatIndexC='24', HeatIndexF='76', WindChillC='22', WindChillF='71', WindGustKmph='13', WindGustMiles='8', chanceoffog='0', chanceoffrost='0', chanceofhightemp='0', chanceofovercast='88', chanceofrain='100', chanceofremdry='0', chanceofsnow='0', chanceofsunshine='0', chanceofthunder='0', chanceofwindy='0', cloudcover='50', humidity='57', precipInches='0.0', precipMM='0.9', pressure='1011', pressureInches='30', tempC='22', tempF='72', time='1200', uvIndex='5', visibility='10', visibilityMiles='6', weatherCode='116', weatherDesc=[WeatherDesc(value='Partly cloudy')], weatherIconUrl=[WeatherIconUrl(value='')], winddir16Point='SSE', winddirDegree='148', windspeedKmph='11', windspeedMiles='7'), HourlyForecast(DewPointC='12', DewPointF='54', FeelsLikeC='20', FeelsLikeF='67', HeatIndexC='20', HeatIndexF='67', WindChillC='20', WindChillF='67', WindGustKmph='19', WindGustMiles='12', chanceoffog='0', chanceoffrost='0', chanceofhightemp='0', chanceofovercast='83', chanceofrain='100', chanceofremdry='0', chanceofsnow='0', chanceofsunshine='0', chanceofthunder='0', chanceofwindy='0', cloudcover='80', humidity='62', precipInches='0.0', precipMM='0.1', pressure='1012', pressureInches='30', tempC='19', tempF='67', time='1500', uvIndex='4', visibility='10', visibilityMiles='6', weatherCode='176', weatherDesc=[WeatherDesc(value='Patchy rain nearby')], weatherIconUrl=[WeatherIconUrl(value='')], winddir16Point='SSE', winddirDegree='155', windspeedKmph='13', windspeedMiles='8'), HourlyForecast(DewPointC='10', DewPointF='51', FeelsLikeC='19', FeelsLikeF='65', HeatIndexC='19', HeatIndexF='65', WindChillC='19', WindChillF='65', WindGustKmph='17', WindGustMiles='11', chanceoffog='0', chanceoffrost='0', chanceofhightemp='0', chanceofovercast='93', chanceofrain='66', chanceofremdry='0', chanceofsnow='0', chanceofsunshine='0', chanceofthunder='0', chanceofwindy='0', cloudcover='87', humidity='59', precipInches='0.0', precipMM='0.0', pressure='1013', pressureInches='30', tempC='18', tempF='65', time='1800', uvIndex='1', visibility='10', visibilityMiles='6', weatherCode='176', weatherDesc=[WeatherDesc(value='Patchy rain nearby')], weatherIconUrl=[WeatherIconUrl(value='')], winddir16Point='SE', winddirDegree='141', windspeedKmph='12', windspeedMiles='7'), HourlyForecast(DewPointC='10', DewPointF='50', FeelsLikeC='14', FeelsLikeF='58', HeatIndexC='14', HeatIndexF='58', WindChillC='14', WindChillF='58', WindGustKmph='11', WindGustMiles='7', chanceoffog='0', chanceoffrost='0', chanceofhightemp='0', chanceofovercast='0', chanceofrain='0', chanceofremdry='81', chanceofsnow='0', chanceofsunshine='92', chanceofthunder='0', chanceofwindy='0', cloudcover='16', humidity='76', precipInches='0.0', precipMM='0.0', pressure='1015', pressureInches='30', tempC='14', tempF='58', time='2100', uvIndex='0', visibility='10', visibilityMiles='6', weatherCode='113', weatherDesc=[WeatherDesc(value='Clear ')], weatherIconUrl=[WeatherIconUrl(value='')], winddir16Point='SE', winddirDegree='144', windspeedKmph='6', windspeedMiles='4')], maxtempC='22', maxtempF='71', mintempC='12', mintempF='54', sunHour='12.5', totalSnow_cm='0.0', uvIndex='1'), DailyForecast(astronomy=[Astronomy(moon_illumination='100', moon_phase='Waning Gibbous', moonrise='10:20 PM', moonset='04:56 AM', sunrise='05:11 AM', sunset='08:43 PM')], avgtempC='16', avgtempF='61', date='2025-05-13', hourly=[HourlyForecast(DewPointC='9', DewPointF='48', FeelsLikeC='13', FeelsLikeF='55', HeatIndexC='13', HeatIndexF='55', WindChillC='13', WindChillF='55', WindGustKmph='10', WindGustMiles='6', chanceoffog='0', chanceoffrost='0', chanceofhightemp='0', chanceofovercast='0', chanceofrain='0', chanceofremdry='91', chanceofsnow='0', chanceofsunshine='91', chanceofthunder='0', chanceofwindy='0', cloudcover='19', humidity='77', precipInches='0.0', precipMM='0.0', pressure='1016', pressureInches='30', tempC='13', tempF='55', time='0', uvIndex='0', visibility='10', visibilityMiles='6', weatherCode='113', weatherDesc=[WeatherDesc(value='Clear ')], weatherIconUrl=[WeatherIconUrl(value='')], winddir16Point='E', winddirDegree='90', windspeedKmph='5', windspeedMiles='3'), HourlyForecast(DewPointC='9', DewPointF='49', FeelsLikeC='12', FeelsLikeF='53', HeatIndexC='12', HeatIndexF='54', WindChillC='12', WindChillF='53', WindGustKmph='11', WindGustMiles='7', chanceoffog='0', chanceoffrost='0', chanceofhightemp='0', chanceofovercast='0', chanceofrain='0', chanceofremdry='88', chanceofsnow='0', chanceofsunshine='85', chanceofthunder='0', chanceofwindy='0', cloudcover='11', humidity='83', precipInches='0.0', precipMM='0.0', pressure='1017', pressureInches='30', tempC='12', tempF='54', time='300', uvIndex='0', visibility='10', visibilityMiles='6', weatherCode='113', weatherDesc=[WeatherDesc(value='Clear ')], weatherIconUrl=[WeatherIconUrl(value='')], winddir16Point='ENE', winddirDegree='77', windspeedKmph='6', windspeedMiles='4'), HourlyForecast(DewPointC='10', DewPointF='50', FeelsLikeC='13', FeelsLikeF='56', HeatIndexC='14', HeatIndexF='56', WindChillC='13', WindChillF='56', WindGustKmph='10', WindGustMiles='6', chanceoffog='0', chanceoffrost='0', chanceofhightemp='0', chanceofovercast='45', chanceofrain='0', chanceofremdry='85', chanceofsnow='0', chanceofsunshine='70', chanceofthunder='0', chanceofwindy='0', cloudcover='31', humidity='79', precipInches='0.0', precipMM='0.0', pressure='1018', pressureInches='30', tempC='14', tempF='56', time='600', uvIndex='0', visibility='10', visibilityMiles='6', weatherCode='116', weatherDesc=[WeatherDesc(value='Partly Cloudy ')], weatherIconUrl=[WeatherIconUrl(value='')], winddir16Point='ENE', winddirDegree='65', windspeedKmph='7', windspeedMiles='4'), HourlyForecast(DewPointC='9', DewPointF='48', FeelsLikeC='19', FeelsLikeF='66', HeatIndexC='19', HeatIndexF='66', WindChillC='19', WindChillF='66', WindGustKmph='14', WindGustMiles='9', chanceoffog='0', chanceoffrost='0', chanceofhightemp='0', chanceofovercast='34', chanceofrain='0', chanceofremdry='83', chanceofsnow='0', chanceofsunshine='81', chanceofthunder='0', chanceofwindy='0', cloudcover='53', humidity='53', precipInches='0.0', precipMM='0.0', pressure='1018', pressureInches='30', tempC='19', tempF='66', time='900', uvIndex='2', visibility='10', visibilityMiles='6', weatherCode='116', weatherDesc=[WeatherDesc(value='Partly Cloudy ')], weatherIconUrl=[WeatherIconUrl(value='')], winddir16Point='ENE', winddirDegree='71', windspeedKmph='12', windspeedMiles='7'), HourlyForecast(DewPointC='8', DewPointF='47', FeelsLikeC='22', FeelsLikeF='71', HeatIndexC='24', HeatIndexF='75', WindChillC='22', WindChillF='71', WindGustKmph='19', WindGustMiles='12', chanceoffog='0', chanceoffrost='0', chanceofhightemp='0', chanceofovercast='35', chanceofrain='0', chanceofremdry='83', chanceofsnow='0', chanceofsunshine='77', chanceofthunder='0', chanceofwindy='0', cloudcover='27', humidity='43', precipInches='0.0', precipMM='0.0', pressure='1018', pressureInches='30', tempC='22', tempF='71', time='1200', uvIndex='5', visibility='10', visibilityMiles='6', weatherCode='116', weatherDesc=[WeatherDesc(value='Partly Cloudy ')], weatherIconUrl=[WeatherIconUrl(value='')], winddir16Point='ENE', winddirDegree='68', windspeedKmph='17', windspeedMiles='10'), HourlyForecast(DewPointC='7', DewPointF='44', FeelsLikeC='21', FeelsLikeF='69', HeatIndexC='21', HeatIndexF='69', WindChillC='21', WindChillF='69', WindGustKmph='22', WindGustMiles='14', chanceoffog='0', chanceoffrost='0', chanceofhightemp='0', chanceofovercast='0', chanceofrain='0', chanceofremdry='85', chanceofsnow='0', chanceofsunshine='85', chanceofthunder='0', chanceofwindy='0', cloudcover='6', humidity='41', precipInches='0.0', precipMM='0.0', pressure='1018', pressureInches='30', tempC='21', tempF='69', time='1500', uvIndex='4', visibility='10', visibilityMiles='6', weatherCode='113', weatherDesc=[WeatherDesc(value='Sunny')], weatherIconUrl=[WeatherIconUrl(value='')], winddir16Point='ENE', winddirDegree='79', windspeedKmph='19', windspeedMiles='12'), HourlyForecast(DewPointC='5', DewPointF='41', FeelsLikeC='18', FeelsLikeF='64', HeatIndexC='18', HeatIndexF='64', WindChillC='18', WindChillF='64', WindGustKmph='21', WindGustMiles='13', chanceoffog='0', chanceoffrost='0', chanceofhightemp='0', chanceofovercast='0', chanceofrain='0', chanceofremdry='85', chanceofsnow='0', chanceofsunshine='91', chanceofthunder='0', chanceofwindy='0', cloudcover='2', humidity='43', precipInches='0.0', precipMM='0.0', pressure='1019', pressureInches='30', tempC='18', tempF='64', time='1800', uvIndex='1', visibility='10', visibilityMiles='6', weatherCode='113', weatherDesc=[WeatherDesc(value='Sunny')], weatherIconUrl=[WeatherIconUrl(value='')], winddir16Point='ENE', winddirDegree='74', windspeedKmph='17', windspeedMiles='10'), HourlyForecast(DewPointC='7', DewPointF='44', FeelsLikeC='13', FeelsLikeF='55', HeatIndexC='13', HeatIndexF='56', WindChillC='13', WindChillF='55', WindGustKmph='17', WindGustMiles='11', chanceoffog='0', chanceoffrost='0', chanceofhightemp='0', chanceofovercast='0', chanceofrain='0', chanceofremdry='89', chanceofsnow='0', chanceofsunshine='92', chanceofthunder='0', chanceofwindy='0', cloudcover='0', humidity='64', precipInches='0.0', precipMM='0.0', pressure='1020', pressureInches='30', tempC='13', tempF='56', time='2100', uvIndex='0', visibility='10', visibilityMiles='6', weatherCode='113', weatherDesc=[WeatherDesc(value='Clear ')], weatherIconUrl=[WeatherIconUrl(value='')], winddir16Point='ENE', winddirDegree='57', windspeedKmph='11', windspeedMiles='7')], maxtempC='22', maxtempF='71', mintempC='12', mintempF='53', sunHour='15.0', totalSnow_cm='0.0', uvIndex='2'), DailyForecast(astronomy=[Astronomy(moon_illumination='98', moon_phase='Waning Gibbous', moonrise='11:29 PM', moonset='05:23 AM', sunrise='05:10 AM', sunset='08:45 PM')], avgtempC='15', avgtempF='59', date='2025-05-14', hourly=[HourlyForecast(DewPointC='5', DewPointF='41', FeelsLikeC='10', FeelsLikeF='49', HeatIndexC='11', HeatIndexF='52', WindChillC='10', WindChillF='49', WindGustKmph='17', WindGustMiles='11', chanceoffog='0', chanceoffrost='0', chanceofhightemp='0', chanceofovercast='0', chanceofrain='0', chanceofremdry='91', chanceofsnow='0', chanceofsunshine='90', chanceofthunder='0', chanceofwindy='0', cloudcover='0', humidity='66', precipInches='0.0', precipMM='0.0', pressure='1020', pressureInches='30', tempC='11', tempF='52', time='0', uvIndex='0', visibility='10', visibilityMiles='6', weatherCode='113', weatherDesc=[WeatherDesc(value='Clear ')], weatherIconUrl=[WeatherIconUrl(value='')], winddir16Point='NE', winddirDegree='42', windspeedKmph='10', windspeedMiles='6'), HourlyForecast(DewPointC='4', DewPointF='40', FeelsLikeC='8', FeelsLikeF='47', HeatIndexC='10', HeatIndexF='49', WindChillC='8', WindChillF='47', WindGustKmph='17', WindGustMiles='10', chanceoffog='0', chanceoffrost='0', chanceofhightemp='0', chanceofovercast='0', chanceofrain='0', chanceofremdry='81', chanceofsnow='0', chanceofsunshine='86', chanceofthunder='0', chanceofwindy='0', cloudcover='1', humidity='69', precipInches='0.0', precipMM='0.0', pressure='1020', pressureInches='30', tempC='10', tempF='49', time='300', uvIndex='0', visibility='10', visibilityMiles='6', weatherCode='113', weatherDesc=[WeatherDesc(value='Clear ')], weatherIconUrl=[WeatherIconUrl(value='')], winddir16Point='NNE', winddirDegree='31', windspeedKmph='10', windspeedMiles='6'), HourlyForecast(DewPointC='4', DewPointF='40', FeelsLikeC='10', FeelsLikeF='49', HeatIndexC='11', HeatIndexF='52', WindChillC='10', WindChillF='49', WindGustKmph='15', WindGustMiles='10', chanceoffog='0', chanceoffrost='0', chanceofhightemp='0', chanceofovercast='0', chanceofrain='0', chanceofremdry='87', chanceofsnow='0', chanceofsunshine='89', chanceofthunder='0', chanceofwindy='0', cloudcover='7', humidity='63', precipInches='0.0', precipMM='0.0', pressure='1021', pressureInches='30', tempC='11', tempF='52', time='600', uvIndex='0', visibility='10', visibilityMiles='6', weatherCode='113', weatherDesc=[WeatherDesc(value='Sunny')], weatherIconUrl=[WeatherIconUrl(value='')], winddir16Point='NE', winddirDegree='38', windspeedKmph='11', windspeedMiles='7'), HourlyForecast(DewPointC='5', DewPointF='41', FeelsLikeC='17', FeelsLikeF='62', HeatIndexC='17', HeatIndexF='62', WindChillC='17', WindChillF='62', WindGustKmph='16', WindGustMiles='10', chanceoffog='0', chanceoffrost='0', chanceofhightemp='0', chanceofovercast='88', chanceofrain='0', chanceofremdry='81', chanceofsnow='0', chanceofsunshine='17', chanceofthunder='0', chanceofwindy='0', cloudcover='82', humidity='46', precipInches='0.0', precipMM='0.0', pressure='1021', pressureInches='30', tempC='17', tempF='62', time='900', uvIndex='2', visibility='10', visibilityMiles='6', weatherCode='119', weatherDesc=[WeatherDesc(value='Cloudy ')], weatherIconUrl=[WeatherIconUrl(value='')], winddir16Point='NE', winddirDegree='46', windspeedKmph='14', windspeedMiles='9'), HourlyForecast(DewPointC='5', DewPointF='40', FeelsLikeC='20', FeelsLikeF='68', HeatIndexC='20', HeatIndexF='68', WindChillC='20', WindChillF='68', WindGustKmph='16', WindGustMiles='10', chanceoffog='0', chanceoffrost='0', chanceofhightemp='0', chanceofovercast='80', chanceofrain='0', chanceofremdry='85', chanceofsnow='0', chanceofsunshine='5', chanceofthunder='0', chanceofwindy='0', cloudcover='100', humidity='36', precipInches='0.0', precipMM='0.0', pressure='1021', pressureInches='30', tempC='20', tempF='68', time='1200', uvIndex='5', visibility='10', visibilityMiles='6', weatherCode='122', weatherDesc=[WeatherDesc(value='Overcast ')], weatherIconUrl=[WeatherIconUrl(value='')], winddir16Point='NE', winddirDegree='48', windspeedKmph='14', windspeedMiles='9'), HourlyForecast(DewPointC='6', DewPointF='42', FeelsLikeC='21', FeelsLikeF='70', HeatIndexC='24', HeatIndexF='74', WindChillC='21', WindChillF='70', WindGustKmph='17', WindGustMiles='11', chanceoffog='0', chanceoffrost='0', chanceofhightemp='0', chanceofovercast='0', chanceofrain='0', chanceofremdry='86', chanceofsnow='0', chanceofsunshine='91', chanceofthunder='0', chanceofwindy='0', cloudcover='21', humidity='36', precipInches='0.0', precipMM='0.0', pressure='1020', pressureInches='30', tempC='21', tempF='70', time='1500', uvIndex='5', visibility='10', visibilityMiles='6', weatherCode='113', weatherDesc=[WeatherDesc(value='Sunny')], weatherIconUrl=[WeatherIconUrl(value='')], winddir16Point='NE', winddirDegree='50', windspeedKmph='15', windspeedMiles='9'), HourlyForecast(DewPointC='8', DewPointF='46', FeelsLikeC='18', FeelsLikeF='65', HeatIndexC='18', HeatIndexF='65', WindChillC='18', WindChillF='65', WindGustKmph='17', WindGustMiles='11', chanceoffog='0', chanceoffrost='0', chanceofhightemp='0', chanceofovercast='33', chanceofrain='0', chanceofremdry='86', chanceofsnow='0', chanceofsunshine='89', chanceofthunder='0', chanceofwindy='0', cloudcover='30', humidity='51', precipInches='0.0', precipMM='0.0', pressure='1021', pressureInches='30', tempC='18', tempF='65', time='1800', uvIndex='1', visibility='10', visibilityMiles='6', weatherCode='116', weatherDesc=[WeatherDesc(value='Partly Cloudy ')], weatherIconUrl=[WeatherIconUrl(value='')], winddir16Point='ENE', winddirDegree='61', windspeedKmph='14', windspeedMiles='9'), HourlyForecast(DewPointC='7', DewPointF='44', FeelsLikeC='11', FeelsLikeF='53', HeatIndexC='13', HeatIndexF='55', WindChillC='11', WindChillF='53', WindGustKmph='19', WindGustMiles='12', chanceoffog='0', chanceoffrost='0', chanceofhightemp='0', chanceofovercast='0', chanceofrain='0', chanceofremdry='89', chanceofsnow='0', chanceofsunshine='94', chanceofthunder='0', chanceofwindy='0', cloudcover='17', humidity='67', precipInches='0.0', precipMM='0.0', pressure='1023', pressureInches='30', tempC='13', tempF='55', time='2100', uvIndex='0', visibility='10', visibilityMiles='6', weatherCode='113', weatherDesc=[WeatherDesc(value='Clear ')], weatherIconUrl=[WeatherIconUrl(value='')], winddir16Point='NNE', winddirDegree='31', windspeedKmph='14', windspeedMiles='9')], maxtempC='21', maxtempF='70', mintempC='9', mintempF='48', sunHour='14.0', totalSnow_cm='0.0', uvIndex='2')] metadata=ResponseMetadata(is_real_data=True, is_cached=False, is_mock=False, status_code=200, error_type=None, error_message=None, url='http://wttr.in/London?format=j1', timestamp=1747055367.9183338)\n"
          ]
        }
      ]
    },
    {
      "cell_type": "code",
      "execution_count": 14,
      "id": "7a2c7cd0",
      "metadata": {
        "id": "7a2c7cd0"
      },
      "outputs": [],
      "source": [
        "# Define get_weather_data() function here\n",
        "def get_weather_data(location, forecast_days=5):\n",
        "    \"\"\"\n",
        "    Retrieve weather data for a specified location.\n",
        "\n",
        "    Args:\n",
        "        location (str): City or location name\n",
        "        forecast_days (int): Number of days to forecast (1-5)\n",
        "\n",
        "    Returns:\n",
        "        dict: Weather data including current conditions and forecast\n",
        "    \"\"\"\n",
        "\n",
        "def get_weather_data(location, forecast_days=5):\n",
        "    weather_data = get_weather(location, forecast_days=forecast_days)\n",
        "    print(weather_data)\n"
      ]
    },
    {
      "cell_type": "code",
      "source": [
        "def get_weather_data(city=\"Perth\", forecast_days=3):\n",
        "  print(data)"
      ],
      "metadata": {
        "id": "ITtRCAULIhvP"
      },
      "id": "ITtRCAULIhvP",
      "execution_count": 22,
      "outputs": []
    },
    {
      "cell_type": "markdown",
      "id": "8a744fdc",
      "metadata": {
        "id": "8a744fdc"
      },
      "source": [
        "## 📊 Visualisation Functions"
      ]
    },
    {
      "cell_type": "code",
      "execution_count": 8,
      "id": "9dc3bf85",
      "metadata": {
        "id": "9dc3bf85"
      },
      "outputs": [],
      "source": [
        "# Define create_temperature_visualisation() and create_precipitation_visualisation() here\n",
        "def create_temperature_visualisation(weather_data, output_type='display'):\n",
        "    \"\"\"\n",
        "    Create visualisation of temperature data.\n",
        "\n",
        "    Args:\n",
        "        weather_data (dict): The processed weather data\n",
        "        output_type (str): Either 'display' to show in notebook or 'figure' to return the figure\n",
        "\n",
        "    Returns:\n",
        "        If output_type is 'figure', returns the matplotlib figure object\n",
        "        Otherwise, displays the visualisation in the notebook\n",
        "    \"\"\"\n",
        "    pass\n"
      ]
    },
    {
      "cell_type": "code",
      "source": [
        "\n",
        "def create_precipitation_visualisation(weather_data, output_type='display'):\n",
        "    \"\"\"\n",
        "    Create visualisation of precipitation data.\n",
        "\n",
        "    Args:\n",
        "        weather_data (dict): The processed weather data\n",
        "        output_type (str): Either 'display' to show in notebook or 'figure' to return the figure\n",
        "\n",
        "    Returns:\n",
        "        If output_type is 'figure', returns the matplotlib figure object\n",
        "        Otherwise, displays the visualisation in the notebook\n",
        "    \"\"\"\n",
        "    pass"
      ],
      "metadata": {
        "id": "HpOlQylYG5Ho"
      },
      "id": "HpOlQylYG5Ho",
      "execution_count": 9,
      "outputs": []
    },
    {
      "cell_type": "markdown",
      "id": "9f95d160",
      "metadata": {
        "id": "9f95d160"
      },
      "source": [
        "## 🤖 Natural Language Processing"
      ]
    },
    {
      "cell_type": "code",
      "execution_count": null,
      "id": "bcc5833e",
      "metadata": {
        "id": "bcc5833e"
      },
      "outputs": [],
      "source": [
        "# Define parse_weather_question() and generate_weather_response() here\n",
        "def parse_weather_question(question):\n",
        "    \"\"\"\n",
        "    Parse a natural language weather question.\n",
        "\n",
        "    Args:\n",
        "        question (str): User's weather-related question\n",
        "\n",
        "    Returns:\n",
        "        dict: Extracted information including location, time period, and weather attribute\n",
        "    \"\"\"\n",
        "    pass"
      ]
    },
    {
      "cell_type": "markdown",
      "id": "0d85225e",
      "metadata": {
        "id": "0d85225e"
      },
      "source": [
        "## 🧭 User Interface"
      ]
    },
    {
      "cell_type": "code",
      "execution_count": null,
      "id": "fa6cb0f6",
      "metadata": {
        "id": "fa6cb0f6"
      },
      "outputs": [],
      "source": [
        "# Define menu functions using pyinputplus or ipywidgets here"
      ]
    },
    {
      "cell_type": "markdown",
      "id": "d643a53c",
      "metadata": {
        "id": "d643a53c"
      },
      "source": [
        "## 🧩 Main Application Logic"
      ]
    },
    {
      "cell_type": "code",
      "execution_count": null,
      "id": "a9e2e805",
      "metadata": {
        "id": "a9e2e805"
      },
      "outputs": [],
      "source": [
        "# Tie everything together here\n",
        "def generate_weather_response(parsed_question, weather_data):\n",
        "    \"\"\"\n",
        "    Generate a natural language response to a weather question.\n",
        "\n",
        "    Args:\n",
        "        parsed_question (dict): Parsed question data\n",
        "        weather_data (dict): Weather data\n",
        "\n",
        "    Returns:\n",
        "        str: Natural language response\n",
        "    \"\"\"\n",
        "    pass"
      ]
    },
    {
      "cell_type": "markdown",
      "id": "fde44479",
      "metadata": {
        "id": "fde44479"
      },
      "source": [
        "## 🧪 Testing and Examples"
      ]
    },
    {
      "cell_type": "code",
      "execution_count": null,
      "id": "4e573901",
      "metadata": {
        "id": "4e573901"
      },
      "outputs": [],
      "source": [
        "# Include sample input/output for each function"
      ]
    },
    {
      "cell_type": "markdown",
      "id": "d2885880",
      "metadata": {
        "id": "d2885880"
      },
      "source": [
        "## 🗂️ AI Prompting Log (Optional)\n",
        "Add markdown cells here summarising prompts used or link to AI conversations in the `ai-conversations/` folder."
      ]
    }
  ],
  "metadata": {
    "language_info": {
      "name": "python"
    },
    "colab": {
      "provenance": [],
      "include_colab_link": true
    },
    "kernelspec": {
      "name": "python3",
      "display_name": "Python 3"
    }
  },
  "nbformat": 4,
  "nbformat_minor": 5
}