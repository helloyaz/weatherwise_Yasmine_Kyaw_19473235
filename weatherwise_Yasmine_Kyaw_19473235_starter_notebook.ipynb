{
  "cells": [
    {
      "cell_type": "markdown",
      "metadata": {
        "id": "view-in-github",
        "colab_type": "text"
      },
      "source": [
        "<a href=\"https://colab.research.google.com/github/helloyaz/weatherwise_Yasmine_Kyaw_19473235/blob/main/weatherwise_Yasmine_Kyaw_19473235_starter_notebook.ipynb\" target=\"_parent\"><img src=\"https://colab.research.google.com/assets/colab-badge.svg\" alt=\"Open In Colab\"/></a>"
      ]
    },
    {
      "cell_type": "markdown",
      "id": "72e78a05",
      "metadata": {
        "id": "72e78a05"
      },
      "source": [
        "# 🌦️ WeatherWise – Starter Notebook\n",
        "\n",
        "Welcome to your **WeatherWise** project notebook! This scaffold is designed to help you build your weather advisor app using Python, visualisations, and AI-enhanced development.\n",
        "\n",
        "---\n",
        "\n",
        "📄 **Full Assignment Specification**  \n",
        "See [`ASSIGNMENT.md`](ASSIGNMENT.md) or check the LMS for full details.\n",
        "\n",
        "📝 **Quick Refresher**  \n",
        "A one-page summary is available in [`resources/assignment-summary.md`](resources/assignment-summary.md).\n",
        "\n",
        "---\n",
        "\n",
        "🧠 **This Notebook Structure is Optional**  \n",
        "You’re encouraged to reorganise, rename sections, or remove scaffold cells if you prefer — as long as your final version meets the requirements.\n",
        "\n",
        "✅ You may delete this note before submission.\n",
        "\n"
      ]
    },
    {
      "cell_type": "markdown",
      "id": "fa8c7f6c",
      "metadata": {
        "id": "fa8c7f6c"
      },
      "source": [
        "## 🧰 Setup and Imports\n",
        "\n",
        "This section imports commonly used packages and installs any additional tools used in the project.\n",
        "\n",
        "- You may not need all of these unless you're using specific features (e.g. visualisations, advanced prompting).\n",
        "- The notebook assumes the following packages are **pre-installed** in the provided environment or installable via pip:\n",
        "  - `requests`, `matplotlib`, `pyinputplus`\n",
        "  - `fetch-my-weather` (for accessing weather data easily)\n",
        "  - `hands-on-ai` (for AI logging, comparisons, or prompting tools)\n",
        "\n",
        "If you're running this notebook in **Google Colab**, uncomment the following lines to install the required packages.\n"
      ]
    },
    {
      "cell_type": "code",
      "source": [
        "import os\n",
        "\n",
        "os.environ['HANDS_ON_AI_SERVER'] = 'http://ollama.serveur.au'\n",
        "os.environ['HANDS_ON_AI_MODEL'] = 'granite3.2'\n",
        "os.environ['HANDS_ON_AI_API_KEY'] = input('Enter your API key: ')"
      ],
      "metadata": {
        "id": "B2JKlJfrGgIb",
        "outputId": "fac7c2ca-1afa-4195-c8c0-d766ad2f5e35",
        "colab": {
          "base_uri": "https://localhost:8080/"
        }
      },
      "id": "B2JKlJfrGgIb",
      "execution_count": 29,
      "outputs": [
        {
          "name": "stdout",
          "output_type": "stream",
          "text": [
            "Enter your API key: \n"
          ]
        }
      ]
    },
    {
      "cell_type": "markdown",
      "id": "59ae7543",
      "metadata": {
        "id": "59ae7543"
      },
      "source": [
        "## 📦 Setup and Configuration\n",
        "Import required packages and setup environment."
      ]
    },
    {
      "cell_type": "code",
      "source": [
        "!pip install fetch-my-weather pyinputplus requests matplotlib hands-on-ai\n"
      ],
      "metadata": {
        "collapsed": true,
        "id": "sW_K9_XAjmMR",
        "outputId": "709332f1-d042-49d0-b85d-ab2e35e1f31e",
        "colab": {
          "base_uri": "https://localhost:8080/"
        }
      },
      "id": "sW_K9_XAjmMR",
      "execution_count": 30,
      "outputs": [
        {
          "output_type": "stream",
          "name": "stdout",
          "text": [
            "Requirement already satisfied: fetch-my-weather in /usr/local/lib/python3.11/dist-packages (0.4.0)\n",
            "Requirement already satisfied: pyinputplus in /usr/local/lib/python3.11/dist-packages (0.2.12)\n",
            "Requirement already satisfied: requests in /usr/local/lib/python3.11/dist-packages (2.32.3)\n",
            "Requirement already satisfied: matplotlib in /usr/local/lib/python3.11/dist-packages (3.10.0)\n",
            "Requirement already satisfied: hands-on-ai in /usr/local/lib/python3.11/dist-packages (0.1.13)\n",
            "Requirement already satisfied: pydantic>=1.8.0 in /usr/local/lib/python3.11/dist-packages (from fetch-my-weather) (2.11.4)\n",
            "Requirement already satisfied: pysimplevalidate>=0.2.7 in /usr/local/lib/python3.11/dist-packages (from pyinputplus) (0.2.12)\n",
            "Requirement already satisfied: stdiomask>=0.0.3 in /usr/local/lib/python3.11/dist-packages (from pyinputplus) (0.0.6)\n",
            "Requirement already satisfied: charset-normalizer<4,>=2 in /usr/local/lib/python3.11/dist-packages (from requests) (3.4.2)\n",
            "Requirement already satisfied: idna<4,>=2.5 in /usr/local/lib/python3.11/dist-packages (from requests) (3.10)\n",
            "Requirement already satisfied: urllib3<3,>=1.21.1 in /usr/local/lib/python3.11/dist-packages (from requests) (2.4.0)\n",
            "Requirement already satisfied: certifi>=2017.4.17 in /usr/local/lib/python3.11/dist-packages (from requests) (2025.4.26)\n",
            "Requirement already satisfied: contourpy>=1.0.1 in /usr/local/lib/python3.11/dist-packages (from matplotlib) (1.3.2)\n",
            "Requirement already satisfied: cycler>=0.10 in /usr/local/lib/python3.11/dist-packages (from matplotlib) (0.12.1)\n",
            "Requirement already satisfied: fonttools>=4.22.0 in /usr/local/lib/python3.11/dist-packages (from matplotlib) (4.58.0)\n",
            "Requirement already satisfied: kiwisolver>=1.3.1 in /usr/local/lib/python3.11/dist-packages (from matplotlib) (1.4.8)\n",
            "Requirement already satisfied: numpy>=1.23 in /usr/local/lib/python3.11/dist-packages (from matplotlib) (2.0.2)\n",
            "Requirement already satisfied: packaging>=20.0 in /usr/local/lib/python3.11/dist-packages (from matplotlib) (24.2)\n",
            "Requirement already satisfied: pillow>=8 in /usr/local/lib/python3.11/dist-packages (from matplotlib) (11.2.1)\n",
            "Requirement already satisfied: pyparsing>=2.3.1 in /usr/local/lib/python3.11/dist-packages (from matplotlib) (3.2.3)\n",
            "Requirement already satisfied: python-dateutil>=2.7 in /usr/local/lib/python3.11/dist-packages (from matplotlib) (2.9.0.post0)\n",
            "Requirement already satisfied: typer in /usr/local/lib/python3.11/dist-packages (from hands-on-ai) (0.15.3)\n",
            "Requirement already satisfied: python-fasthtml in /usr/local/lib/python3.11/dist-packages (from hands-on-ai) (0.12.18)\n",
            "Requirement already satisfied: python-docx in /usr/local/lib/python3.11/dist-packages (from hands-on-ai) (1.1.2)\n",
            "Requirement already satisfied: pymupdf in /usr/local/lib/python3.11/dist-packages (from hands-on-ai) (1.26.0)\n",
            "Requirement already satisfied: scikit-learn in /usr/local/lib/python3.11/dist-packages (from hands-on-ai) (1.6.1)\n",
            "Requirement already satisfied: annotated-types>=0.6.0 in /usr/local/lib/python3.11/dist-packages (from pydantic>=1.8.0->fetch-my-weather) (0.7.0)\n",
            "Requirement already satisfied: pydantic-core==2.33.2 in /usr/local/lib/python3.11/dist-packages (from pydantic>=1.8.0->fetch-my-weather) (2.33.2)\n",
            "Requirement already satisfied: typing-extensions>=4.12.2 in /usr/local/lib/python3.11/dist-packages (from pydantic>=1.8.0->fetch-my-weather) (4.13.2)\n",
            "Requirement already satisfied: typing-inspection>=0.4.0 in /usr/local/lib/python3.11/dist-packages (from pydantic>=1.8.0->fetch-my-weather) (0.4.0)\n",
            "Requirement already satisfied: six>=1.5 in /usr/local/lib/python3.11/dist-packages (from python-dateutil>=2.7->matplotlib) (1.17.0)\n",
            "Requirement already satisfied: lxml>=3.1.0 in /usr/local/lib/python3.11/dist-packages (from python-docx->hands-on-ai) (5.4.0)\n",
            "Requirement already satisfied: fastcore>=1.8.1 in /usr/local/lib/python3.11/dist-packages (from python-fasthtml->hands-on-ai) (1.8.2)\n",
            "Requirement already satisfied: starlette>0.33 in /usr/local/lib/python3.11/dist-packages (from python-fasthtml->hands-on-ai) (0.46.2)\n",
            "Requirement already satisfied: oauthlib in /usr/local/lib/python3.11/dist-packages (from python-fasthtml->hands-on-ai) (3.2.2)\n",
            "Requirement already satisfied: itsdangerous in /usr/local/lib/python3.11/dist-packages (from python-fasthtml->hands-on-ai) (2.2.0)\n",
            "Requirement already satisfied: uvicorn>=0.30 in /usr/local/lib/python3.11/dist-packages (from uvicorn[standard]>=0.30->python-fasthtml->hands-on-ai) (0.34.2)\n",
            "Requirement already satisfied: httpx in /usr/local/lib/python3.11/dist-packages (from python-fasthtml->hands-on-ai) (0.28.1)\n",
            "Requirement already satisfied: fastlite>=0.1.1 in /usr/local/lib/python3.11/dist-packages (from python-fasthtml->hands-on-ai) (0.1.3)\n",
            "Requirement already satisfied: python-multipart in /usr/local/lib/python3.11/dist-packages (from python-fasthtml->hands-on-ai) (0.0.20)\n",
            "Requirement already satisfied: beautifulsoup4 in /usr/local/lib/python3.11/dist-packages (from python-fasthtml->hands-on-ai) (4.13.4)\n",
            "Requirement already satisfied: scipy>=1.6.0 in /usr/local/lib/python3.11/dist-packages (from scikit-learn->hands-on-ai) (1.15.3)\n",
            "Requirement already satisfied: joblib>=1.2.0 in /usr/local/lib/python3.11/dist-packages (from scikit-learn->hands-on-ai) (1.5.0)\n",
            "Requirement already satisfied: threadpoolctl>=3.1.0 in /usr/local/lib/python3.11/dist-packages (from scikit-learn->hands-on-ai) (3.6.0)\n",
            "Requirement already satisfied: click>=8.0.0 in /usr/local/lib/python3.11/dist-packages (from typer->hands-on-ai) (8.2.0)\n",
            "Requirement already satisfied: shellingham>=1.3.0 in /usr/local/lib/python3.11/dist-packages (from typer->hands-on-ai) (1.5.4)\n",
            "Requirement already satisfied: rich>=10.11.0 in /usr/local/lib/python3.11/dist-packages (from typer->hands-on-ai) (13.9.4)\n",
            "Requirement already satisfied: apswutils>=0.0.2 in /usr/local/lib/python3.11/dist-packages (from fastlite>=0.1.1->python-fasthtml->hands-on-ai) (0.0.2)\n",
            "Requirement already satisfied: markdown-it-py>=2.2.0 in /usr/local/lib/python3.11/dist-packages (from rich>=10.11.0->typer->hands-on-ai) (3.0.0)\n",
            "Requirement already satisfied: pygments<3.0.0,>=2.13.0 in /usr/local/lib/python3.11/dist-packages (from rich>=10.11.0->typer->hands-on-ai) (2.19.1)\n",
            "Requirement already satisfied: anyio<5,>=3.6.2 in /usr/local/lib/python3.11/dist-packages (from starlette>0.33->python-fasthtml->hands-on-ai) (4.9.0)\n",
            "Requirement already satisfied: h11>=0.8 in /usr/local/lib/python3.11/dist-packages (from uvicorn>=0.30->uvicorn[standard]>=0.30->python-fasthtml->hands-on-ai) (0.16.0)\n",
            "Requirement already satisfied: httptools>=0.6.3 in /usr/local/lib/python3.11/dist-packages (from uvicorn[standard]>=0.30->python-fasthtml->hands-on-ai) (0.6.4)\n",
            "Requirement already satisfied: python-dotenv>=0.13 in /usr/local/lib/python3.11/dist-packages (from uvicorn[standard]>=0.30->python-fasthtml->hands-on-ai) (1.1.0)\n",
            "Requirement already satisfied: pyyaml>=5.1 in /usr/local/lib/python3.11/dist-packages (from uvicorn[standard]>=0.30->python-fasthtml->hands-on-ai) (6.0.2)\n",
            "Requirement already satisfied: uvloop!=0.15.0,!=0.15.1,>=0.14.0 in /usr/local/lib/python3.11/dist-packages (from uvicorn[standard]>=0.30->python-fasthtml->hands-on-ai) (0.21.0)\n",
            "Requirement already satisfied: watchfiles>=0.13 in /usr/local/lib/python3.11/dist-packages (from uvicorn[standard]>=0.30->python-fasthtml->hands-on-ai) (1.0.5)\n",
            "Requirement already satisfied: websockets>=10.4 in /usr/local/lib/python3.11/dist-packages (from uvicorn[standard]>=0.30->python-fasthtml->hands-on-ai) (15.0.1)\n",
            "Requirement already satisfied: soupsieve>1.2 in /usr/local/lib/python3.11/dist-packages (from beautifulsoup4->python-fasthtml->hands-on-ai) (2.7)\n",
            "Requirement already satisfied: httpcore==1.* in /usr/local/lib/python3.11/dist-packages (from httpx->python-fasthtml->hands-on-ai) (1.0.9)\n",
            "Requirement already satisfied: sniffio>=1.1 in /usr/local/lib/python3.11/dist-packages (from anyio<5,>=3.6.2->starlette>0.33->python-fasthtml->hands-on-ai) (1.3.1)\n",
            "Requirement already satisfied: apsw in /usr/local/lib/python3.11/dist-packages (from apswutils>=0.0.2->fastlite>=0.1.1->python-fasthtml->hands-on-ai) (3.49.2.0)\n",
            "Requirement already satisfied: mdurl~=0.1 in /usr/local/lib/python3.11/dist-packages (from markdown-it-py>=2.2.0->rich>=10.11.0->typer->hands-on-ai) (0.1.2)\n"
          ]
        }
      ]
    },
    {
      "cell_type": "code",
      "execution_count": 31,
      "id": "f1dd051e",
      "metadata": {
        "id": "f1dd051e"
      },
      "outputs": [],
      "source": [
        "import requests\n",
        "import matplotlib.pyplot as plt\n",
        "import pyinputplus as pyip\n",
        "\n",
        "from fetch_my_weather import get_weather\n",
        "from hands_on_ai.chat import get_response\n",
        "\n"
      ]
    },
    {
      "cell_type": "markdown",
      "id": "f736ade3",
      "metadata": {
        "id": "f736ade3"
      },
      "source": [
        "## 🌤️ Weather Data Functions"
      ]
    },
    {
      "cell_type": "code",
      "execution_count": 102,
      "id": "7a2c7cd0",
      "metadata": {
        "id": "7a2c7cd0"
      },
      "outputs": [],
      "source": [
        "def get_weather_data(city=\"Perth\", forecast_days=3):\n",
        "    if forecast_days > 3:\n",
        "      print(\"⚠️ Sorry! Only up to 3 days of forecast can be provided.\")\n",
        "\n",
        "    try:\n",
        "        url = f\"https://wttr.in/{city}?format=j1\"\n",
        "        response = requests.get(url)\n",
        "        data = response.json()\n",
        "\n",
        "        current = data.get(\"current_condition\", [{}])[0]\n",
        "        weather_now = {\n",
        "            \"temp_C\": current.get(\"temp_C\", \"N/A\"),\n",
        "            \"condition\": current.get(\"weatherDesc\", [{}])[0].get(\"value\", \"Unknown\")\n",
        "        }\n",
        "\n",
        "        print(f\"\\n📍 Weather for {city}\")\n",
        "        print(f\"🌡️ Current Temperature: {weather_now['temp_C']}°C\")\n",
        "        print(f\"⛅ Condition: {weather_now['condition']}\")\n",
        "\n",
        "        forecast_data = []\n",
        "        weather_days = data.get(\"weather\", [])[:forecast_days]\n",
        "\n",
        "        if weather_days:\n",
        "            print(\"\\n📅 Temperature Forecast:\")\n",
        "            for day in weather_days:\n",
        "                forecast = {\n",
        "                    \"date\": day.get(\"date\", \"Unknown\"),\n",
        "                    \"min_temp_C\": day.get(\"mintempC\", \"N/A\"),\n",
        "                    \"max_temp_C\": day.get(\"maxtempC\", \"N/A\"),\n",
        "                    \"condition\": day.get(\"hourly\", [{}])[4].get(\"weatherDesc\", [{}])[0].get(\"value\", \"Unknown\")\n",
        "                }\n",
        "                forecast_data.append(forecast)\n",
        "                print(f\"  • {forecast['date']}: {forecast['min_temp_C']}°C – {forecast['max_temp_C']}°C, {forecast['condition']}\")\n",
        "        else:\n",
        "            print(\"⚠️ No forecast data available.\")\n",
        "\n",
        "        return {\n",
        "            \"city\": city,\n",
        "            \"current\": weather_now,\n",
        "            \"forecast\": forecast_data\n",
        "        }\n",
        "\n",
        "    except Exception as e:\n",
        "        print(f\"\\n❌ Error retrieving weather data for '{city}': {e}\")\n",
        "        return {\"error\": str(e)}\n"
      ]
    },
    {
      "cell_type": "code",
      "source": [
        "result = get_weather_data(\"Sydney\", 4)\n",
        "print(result)\n"
      ],
      "metadata": {
        "id": "x5hZNE690e5A",
        "outputId": "d5a0e523-6785-4634-cdce-d5c1e0be7d38",
        "colab": {
          "base_uri": "https://localhost:8080/"
        },
        "collapsed": true
      },
      "id": "x5hZNE690e5A",
      "execution_count": 103,
      "outputs": [
        {
          "output_type": "stream",
          "name": "stdout",
          "text": [
            "⚠️ Sorry! Only up to 3 days of forecast can be provided.\n",
            "\n",
            "📍 Weather for Sydney\n",
            "🌡️ Current Temperature: 16°C\n",
            "⛅ Condition: Light rain shower\n",
            "\n",
            "📅 Temperature Forecast:\n",
            "  • 2025-05-26: 12°C – 19°C, Sunny\n",
            "  • 2025-05-27: 13°C – 17°C, Sunny\n",
            "  • 2025-05-28: 12°C – 18°C, Sunny\n",
            "{'city': 'Sydney', 'current': {'temp_C': '16', 'condition': 'Light rain shower'}, 'forecast': [{'date': '2025-05-26', 'min_temp_C': '12', 'max_temp_C': '19', 'condition': 'Sunny'}, {'date': '2025-05-27', 'min_temp_C': '13', 'max_temp_C': '17', 'condition': 'Sunny'}, {'date': '2025-05-28', 'min_temp_C': '12', 'max_temp_C': '18', 'condition': 'Sunny'}]}\n"
          ]
        }
      ]
    },
    {
      "cell_type": "markdown",
      "id": "8a744fdc",
      "metadata": {
        "id": "8a744fdc"
      },
      "source": [
        "## 📊 Visualisation Functions"
      ]
    },
    {
      "cell_type": "code",
      "execution_count": 106,
      "id": "9dc3bf85",
      "metadata": {
        "id": "9dc3bf85"
      },
      "outputs": [],
      "source": [
        "import matplotlib.pyplot as plt\n",
        "\n",
        "def create_temperature_visualisation(weather_data, output_type='display'):\n",
        "    \"\"\"\n",
        "    Create visualisation of temperature forecast using bar chart.\n",
        "    \"\"\"\n",
        "\n",
        "    forecast = weather_data.get(\"forecast\", [])\n",
        "    if not forecast:\n",
        "        print(\"⚠️ No forecast data available to visualize.\")\n",
        "        return\n",
        "\n",
        "    # Extract data for plotting\n",
        "    dates = [day['date'] for day in forecast]\n",
        "    min_temps = [int(day['min_temp_C']) for day in forecast]\n",
        "    max_temps = [int(day['max_temp_C']) for day in forecast]\n",
        "\n",
        "    # Create figure and axes\n",
        "    fig, ax = plt.subplots(figsize=(8, 5))\n",
        "\n",
        "    # Plot bars\n",
        "    ax.bar(dates, min_temps, label='Min Temp (°C)', color='skyblue')\n",
        "    ax.bar(dates, max_temps, label='Max Temp (°C)', color='orange', alpha=0.7)\n",
        "\n",
        "    # Set labels and title\n",
        "    ax.set_title(f\"Temperature Forecast for {weather_data['city']}\")\n",
        "    ax.set_xlabel(\"Date\")\n",
        "    ax.set_ylabel(\"Temperature (°C)\")\n",
        "    ax.legend()\n",
        "    ax.grid(True)\n",
        "\n",
        "    # Show or return the figure\n",
        "    if output_type == 'figure':\n",
        "        return fig\n",
        "    else:\n",
        "        plt.show()\n"
      ]
    },
    {
      "cell_type": "code",
      "source": [
        "data = get_weather_data(\"Brisbane\", 2)\n",
        "\n",
        "create_temperature_visualisation(data)\n",
        "create_precipitation_visualisation(data)"
      ],
      "metadata": {
        "collapsed": true,
        "colab": {
          "base_uri": "https://localhost:8080/",
          "height": 1000
        },
        "id": "jI-Ic2_Mznqt",
        "outputId": "e69d3943-5efb-4262-c4c2-79899ca006f0"
      },
      "id": "jI-Ic2_Mznqt",
      "execution_count": 114,
      "outputs": [
        {
          "output_type": "stream",
          "name": "stdout",
          "text": [
            "\n",
            "📍 Weather for Brisbane\n",
            "🌡️ Current Temperature: 21°C\n",
            "⛅ Condition: Clear\n",
            "\n",
            "📅 Temperature Forecast:\n",
            "  • 2025-05-26: 18°C – 24°C, Partly Cloudy \n",
            "  • 2025-05-27: 18°C – 26°C, Sunny\n"
          ]
        },
        {
          "output_type": "display_data",
          "data": {
            "text/plain": [
              "<Figure size 800x500 with 1 Axes>"
            ],
            "image/png": "[encoded data removed]"
          },
          "metadata": {}
        },
        {
          "output_type": "display_data",
          "data": {
            "text/plain": [
              "<Figure size 800x500 with 1 Axes>"
            ],
            "image/png": "[encoded data removed]"
          },
          "metadata": {}
        }
      ]
    },
    {
      "cell_type": "code",
      "source": [
        "def describe_precipitation_forecast(weather_data):\n",
        "    \"\"\"\n",
        "    Print a text-based summary of precipitation expectations from the forecast.\n",
        "\n",
        "    Args:\n",
        "        weather_data (dict): The processed weather data dictionary\n",
        "    \"\"\"\n",
        "    if not weather_data:\n",
        "        print(\"⚠️ No weather data provided.\")\n",
        "        return\n",
        "\n",
        "    forecast = weather_data.get(\"forecast\")\n",
        "    if not forecast:\n",
        "        print(\"⚠️ Forecast data is missing or empty.\")\n",
        "        return\n",
        "\n",
        "    print(\"☔ Precipitation Overview:\\n\")\n",
        "\n",
        "    for day in forecast:\n",
        "        date = day.get(\"date\", \"Unknown date\")\n",
        "        condition = day.get(\"condition\", \"Unknown condition\")\n",
        "\n",
        "        condition_lower = condition.lower()\n",
        "\n",
        "        if any(word in condition_lower for word in [\"rain\", \"shower\", \"thunderstorm\", \"drizzle\"]):\n",
        "            emoji = \"🌧️\"\n",
        "            message = \"Best to pack an umbrella!☔\"\n",
        "        elif any(word in condition_lower for word in [\"cloud\", \"overcast\"]):\n",
        "            emoji = \"☁️\"\n",
        "            message = \"Calls for a chill day indoors 😎 \"\n",
        "        elif \"snow\" in condition_lower:\n",
        "            emoji = \"❄️\"\n",
        "            message = \"Possible snow - Might be a good idea to bundle up!🧣🧤\"\n",
        "        else:\n",
        "            emoji = \"☀️\"\n",
        "            message = \"Clear skies, lovely day for a picnic~🧺\"\n",
        "\n",
        "        print(f\"• {date}: {condition} {emoji} – {message}\")\n",
        "\n"
      ],
      "metadata": {
        "id": "yUkrz8ekBILy"
      },
      "id": "yUkrz8ekBILy",
      "execution_count": 148,
      "outputs": []
    },
    {
      "cell_type": "code",
      "source": [
        "data = get_weather_data(\"Perth\", 3)\n",
        "describe_precipitation_forecast(data)\n"
      ],
      "metadata": {
        "colab": {
          "base_uri": "https://localhost:8080/"
        },
        "id": "IhwRa4pGz2A9",
        "outputId": "57df97dd-e7c2-4fe1-8f91-8e27e03d5605"
      },
      "id": "IhwRa4pGz2A9",
      "execution_count": 149,
      "outputs": [
        {
          "output_type": "stream",
          "name": "stdout",
          "text": [
            "\n",
            "📍 Weather for Perth\n",
            "🌡️ Current Temperature: 8°C\n",
            "⛅ Condition: Clear\n",
            "\n",
            "📅 Temperature Forecast:\n",
            "  • 2025-05-26: 10°C – 18°C, Sunny\n",
            "  • 2025-05-27: 11°C – 21°C, Sunny\n",
            "  • 2025-05-28: 14°C – 22°C, Partly Cloudy \n",
            "☔ Precipitation Overview:\n",
            "\n",
            "• 2025-05-26: Sunny ☀️ – Clear skies, lovely day for a picnic~🧺\n",
            "• 2025-05-27: Sunny ☀️ – Clear skies, lovely day for a picnic~🧺\n",
            "• 2025-05-28: Partly Cloudy  ☁️ – Calls for a chill day indoors 😎 \n"
          ]
        }
      ]
    },
    {
      "cell_type": "markdown",
      "id": "9f95d160",
      "metadata": {
        "id": "9f95d160"
      },
      "source": [
        "## 🤖 Natural Language Processing"
      ]
    },
    {
      "cell_type": "code",
      "execution_count": 37,
      "id": "bcc5833e",
      "metadata": {
        "id": "bcc5833e"
      },
      "outputs": [],
      "source": [
        "# Define parse_weather_question() and generate_weather_response() here\n",
        "def parse_weather_question(question):\n",
        "    \"\"\"\n",
        "    Parse a natural language weather question.\n",
        "\n",
        "    Args:\n",
        "        question (str): User's weather-related question\n",
        "\n",
        "    Returns:\n",
        "        dict: Extracted information including location, time period, and weather attribute\n",
        "    \"\"\"\n",
        "    pass"
      ]
    },
    {
      "cell_type": "markdown",
      "id": "0d85225e",
      "metadata": {
        "id": "0d85225e"
      },
      "source": [
        "## 🧭 User Interface"
      ]
    },
    {
      "cell_type": "code",
      "execution_count": 38,
      "id": "fa6cb0f6",
      "metadata": {
        "id": "fa6cb0f6"
      },
      "outputs": [],
      "source": [
        "# Define menu functions using pyinputplus or ipywidgets here"
      ]
    },
    {
      "cell_type": "markdown",
      "id": "d643a53c",
      "metadata": {
        "id": "d643a53c"
      },
      "source": [
        "## 🧩 Main Application Logic"
      ]
    },
    {
      "cell_type": "code",
      "execution_count": 39,
      "id": "a9e2e805",
      "metadata": {
        "id": "a9e2e805"
      },
      "outputs": [],
      "source": [
        "# Tie everything together here\n",
        "def generate_weather_response(parsed_question, weather_data):\n",
        "    \"\"\"\n",
        "    Generate a natural language response to a weather question.\n",
        "\n",
        "    Args:\n",
        "        parsed_question (dict): Parsed question data\n",
        "        weather_data (dict): Weather data\n",
        "\n",
        "    Returns:\n",
        "        str: Natural language response\n",
        "    \"\"\"\n",
        "    pass"
      ]
    },
    {
      "cell_type": "markdown",
      "id": "fde44479",
      "metadata": {
        "id": "fde44479"
      },
      "source": [
        "## 🧪 Testing and Examples"
      ]
    },
    {
      "cell_type": "code",
      "execution_count": 40,
      "id": "4e573901",
      "metadata": {
        "id": "4e573901"
      },
      "outputs": [],
      "source": [
        "# Include sample input/output for each function"
      ]
    },
    {
      "cell_type": "markdown",
      "id": "d2885880",
      "metadata": {
        "id": "d2885880"
      },
      "source": [
        "## 🗂️ AI Prompting Log (Optional)\n",
        "Add markdown cells here summarising prompts used or link to AI conversations in the `ai-conversations/` folder."
      ]
    }
  ],
  "metadata": {
    "language_info": {
      "name": "python"
    },
    "colab": {
      "provenance": [],
      "include_colab_link": true
    },
    "kernelspec": {
      "name": "python3",
      "display_name": "Python 3"
    }
  },
  "nbformat": 4,
  "nbformat_minor": 5
}